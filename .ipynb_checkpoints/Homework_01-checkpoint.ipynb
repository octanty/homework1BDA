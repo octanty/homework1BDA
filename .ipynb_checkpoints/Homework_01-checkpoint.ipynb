{
 "cells": [
  {
   "cell_type": "markdown",
   "metadata": {
    "colab_type": "text",
    "id": "69FSOEE2kFEN"
   },
   "source": [
    "<div class=\"alert alert-block alert-info\"><b></b>\n",
    "<h1><center> <font color='black'> Homework 01  </font></center></h1>\n",
    "<h2><center> <font color='black'> Introduction and first look at the data </font></center></h2>    \n",
    "<h2><center> <font color='black'> BDA - University of Tartu - Spring 2020</font></center></h3>\n",
    "</div>\n"
   ]
  },
  {
   "cell_type": "markdown",
   "metadata": {
    "colab_type": "text",
    "id": "4DbT63EckFEU"
   },
   "source": [
    "# 1. Python and Pandas (4.5 points)"
   ]
  },
  {
   "cell_type": "markdown",
   "metadata": {
    "colab_type": "text",
    "id": "m38VpMo2kFEZ"
   },
   "source": [
    "* In this course we are going to use Python, and mainly Pandas data structures and data analysis tool. please make sure that you have went through the practise session carefully. After that please answer the following questions below about the abalone dataset."
   ]
  },
  {
   "cell_type": "markdown",
   "metadata": {
    "colab_type": "text",
    "id": "bxRKb3zUkFEb"
   },
   "source": [
    "First, let's import pandas package as pd and read data from the CSV file into a pandas DataFrame."
   ]
  },
  {
   "cell_type": "code",
   "execution_count": 1,
   "metadata": {
    "colab": {
     "base_uri": "https://localhost:8080/",
     "height": 415
    },
    "colab_type": "code",
    "executionInfo": {
     "elapsed": 1557,
     "status": "ok",
     "timestamp": 1582037440299,
     "user": {
      "displayName": "Rr Octanty Mulianingtyas",
      "photoUrl": "",
      "userId": "09417545504749419925"
     },
     "user_tz": -120
    },
    "id": "WX4oQlbgkFEe",
    "outputId": "119cea08-1155-4fbb-e745-12a31b30ee1c"
   },
   "outputs": [
    {
     "data": {
      "text/html": [
       "<div>\n",
       "<style scoped>\n",
       "    .dataframe tbody tr th:only-of-type {\n",
       "        vertical-align: middle;\n",
       "    }\n",
       "\n",
       "    .dataframe tbody tr th {\n",
       "        vertical-align: top;\n",
       "    }\n",
       "\n",
       "    .dataframe thead th {\n",
       "        text-align: right;\n",
       "    }\n",
       "</style>\n",
       "<table border=\"1\" class=\"dataframe\">\n",
       "  <thead>\n",
       "    <tr style=\"text-align: right;\">\n",
       "      <th></th>\n",
       "      <th>Gender</th>\n",
       "      <th>Length</th>\n",
       "      <th>Diameter</th>\n",
       "      <th>Height</th>\n",
       "      <th>Weight</th>\n",
       "      <th>Rings</th>\n",
       "    </tr>\n",
       "  </thead>\n",
       "  <tbody>\n",
       "    <tr>\n",
       "      <td>0</td>\n",
       "      <td>F</td>\n",
       "      <td>0.505</td>\n",
       "      <td>0.385</td>\n",
       "      <td>0.135</td>\n",
       "      <td>0.6185</td>\n",
       "      <td>12</td>\n",
       "    </tr>\n",
       "    <tr>\n",
       "      <td>1</td>\n",
       "      <td>F</td>\n",
       "      <td>0.650</td>\n",
       "      <td>0.475</td>\n",
       "      <td>0.165</td>\n",
       "      <td>1.3875</td>\n",
       "      <td>9</td>\n",
       "    </tr>\n",
       "    <tr>\n",
       "      <td>2</td>\n",
       "      <td>I</td>\n",
       "      <td>0.520</td>\n",
       "      <td>0.380</td>\n",
       "      <td>0.135</td>\n",
       "      <td>0.5395</td>\n",
       "      <td>8</td>\n",
       "    </tr>\n",
       "    <tr>\n",
       "      <td>3</td>\n",
       "      <td>F</td>\n",
       "      <td>0.550</td>\n",
       "      <td>0.425</td>\n",
       "      <td>0.140</td>\n",
       "      <td>0.9520</td>\n",
       "      <td>7</td>\n",
       "    </tr>\n",
       "    <tr>\n",
       "      <td>4</td>\n",
       "      <td>M</td>\n",
       "      <td>0.640</td>\n",
       "      <td>0.525</td>\n",
       "      <td>0.180</td>\n",
       "      <td>1.3135</td>\n",
       "      <td>10</td>\n",
       "    </tr>\n",
       "    <tr>\n",
       "      <td>...</td>\n",
       "      <td>...</td>\n",
       "      <td>...</td>\n",
       "      <td>...</td>\n",
       "      <td>...</td>\n",
       "      <td>...</td>\n",
       "      <td>...</td>\n",
       "    </tr>\n",
       "    <tr>\n",
       "      <td>995</td>\n",
       "      <td>I</td>\n",
       "      <td>0.550</td>\n",
       "      <td>0.415</td>\n",
       "      <td>0.135</td>\n",
       "      <td>0.8095</td>\n",
       "      <td>12</td>\n",
       "    </tr>\n",
       "    <tr>\n",
       "      <td>996</td>\n",
       "      <td>I</td>\n",
       "      <td>0.455</td>\n",
       "      <td>0.435</td>\n",
       "      <td>0.110</td>\n",
       "      <td>0.4265</td>\n",
       "      <td>8</td>\n",
       "    </tr>\n",
       "    <tr>\n",
       "      <td>997</td>\n",
       "      <td>M</td>\n",
       "      <td>0.660</td>\n",
       "      <td>0.500</td>\n",
       "      <td>0.165</td>\n",
       "      <td>1.3195</td>\n",
       "      <td>9</td>\n",
       "    </tr>\n",
       "    <tr>\n",
       "      <td>998</td>\n",
       "      <td>I</td>\n",
       "      <td>0.525</td>\n",
       "      <td>0.400</td>\n",
       "      <td>0.130</td>\n",
       "      <td>0.6455</td>\n",
       "      <td>8</td>\n",
       "    </tr>\n",
       "    <tr>\n",
       "      <td>999</td>\n",
       "      <td>M</td>\n",
       "      <td>0.515</td>\n",
       "      <td>0.395</td>\n",
       "      <td>0.135</td>\n",
       "      <td>1.0070</td>\n",
       "      <td>8</td>\n",
       "    </tr>\n",
       "  </tbody>\n",
       "</table>\n",
       "<p>1000 rows × 6 columns</p>\n",
       "</div>"
      ],
      "text/plain": [
       "    Gender  Length  Diameter  Height  Weight  Rings\n",
       "0        F   0.505     0.385   0.135  0.6185     12\n",
       "1        F   0.650     0.475   0.165  1.3875      9\n",
       "2        I   0.520     0.380   0.135  0.5395      8\n",
       "3        F   0.550     0.425   0.140  0.9520      7\n",
       "4        M   0.640     0.525   0.180  1.3135     10\n",
       "..     ...     ...       ...     ...     ...    ...\n",
       "995      I   0.550     0.415   0.135  0.8095     12\n",
       "996      I   0.455     0.435   0.110  0.4265      8\n",
       "997      M   0.660     0.500   0.165  1.3195      9\n",
       "998      I   0.525     0.400   0.130  0.6455      8\n",
       "999      M   0.515     0.395   0.135  1.0070      8\n",
       "\n",
       "[1000 rows x 6 columns]"
      ]
     },
     "execution_count": 1,
     "metadata": {},
     "output_type": "execute_result"
    }
   ],
   "source": [
    "import pandas as pd\n",
    "data = pd.read_csv(\"abalone.csv\")\n",
    "data"
   ]
  },
  {
   "cell_type": "markdown",
   "metadata": {
    "colab_type": "text",
    "id": "Ry0aokmBkFEv"
   },
   "source": [
    "`Question 0` is an example of how you should answer the following questions. First, in the `#TODO` cell you have to write the code representing your solution. And in the answer cell write the answer with your own words. It does not have to be a full sentence."
   ]
  },
  {
   "cell_type": "markdown",
   "metadata": {
    "colab_type": "text",
    "id": "X6BdBMIukFE0"
   },
   "source": [
    " **1.0. What is overall memory consumption of the data?** (EXAMPLE)"
   ]
  },
  {
   "cell_type": "code",
   "execution_count": 2,
   "metadata": {
    "colab": {
     "base_uri": "https://localhost:8080/",
     "height": 35
    },
    "colab_type": "code",
    "executionInfo": {
     "elapsed": 695,
     "status": "ok",
     "timestamp": 1582035751412,
     "user": {
      "displayName": "Rr Octanty Mulianingtyas",
      "photoUrl": "",
      "userId": "09417545504749419925"
     },
     "user_tz": -120
    },
    "id": "ZylD5zjekFE4",
    "outputId": "b687ca51-5e9d-4be3-f6cb-c4d5a4081039"
   },
   "outputs": [
    {
     "data": {
      "text/plain": [
       "102128"
      ]
     },
     "execution_count": 2,
     "metadata": {},
     "output_type": "execute_result"
    }
   ],
   "source": [
    "# TODO - here you have to write the code how did you find the answer.\n",
    "data.memory_usage(deep=True).sum()"
   ]
  },
  {
   "cell_type": "markdown",
   "metadata": {
    "colab_type": "text",
    "id": "GofHbfwBkFFD"
   },
   "source": [
    "**<font color='red'>Answer:</font>** The total memory usage is 102080 bytes (102,08 kb)."
   ]
  },
  {
   "cell_type": "markdown",
   "metadata": {
    "colab_type": "text",
    "id": "ha6jZ9MFkFFG"
   },
   "source": [
    " **1.1. What are the column names of the dataset?** **(0.25 point)**"
   ]
  },
  {
   "cell_type": "code",
   "execution_count": 3,
   "metadata": {
    "colab": {
     "base_uri": "https://localhost:8080/",
     "height": 35
    },
    "colab_type": "code",
    "executionInfo": {
     "elapsed": 610,
     "status": "ok",
     "timestamp": 1582035830567,
     "user": {
      "displayName": "Rr Octanty Mulianingtyas",
      "photoUrl": "",
      "userId": "09417545504749419925"
     },
     "user_tz": -120
    },
    "id": "g65HE2KUkFFM",
    "outputId": "9cd1c8ac-3ef3-49dc-e13a-0450e8699eab"
   },
   "outputs": [
    {
     "data": {
      "text/plain": [
       "Index(['Gender', 'Length', 'Diameter', 'Height', 'Weight', 'Rings'], dtype='object')"
      ]
     },
     "execution_count": 3,
     "metadata": {},
     "output_type": "execute_result"
    }
   ],
   "source": [
    "data.columns"
   ]
  },
  {
   "cell_type": "markdown",
   "metadata": {
    "colab_type": "text",
    "id": "HDeLS7g3kFFX"
   },
   "source": [
    "**<font color='red'>Answer:</font>** 'Gender', 'Length', 'Diameter', 'Height', 'Weight', 'Rings'"
   ]
  },
  {
   "cell_type": "markdown",
   "metadata": {
    "colab_type": "text",
    "id": "6Xgis8rckFFb"
   },
   "source": [
    "**1.2. How many observations (i.e. rows) are in this data frame?** **(0.25 point)**"
   ]
  },
  {
   "cell_type": "code",
   "execution_count": 4,
   "metadata": {
    "colab": {
     "base_uri": "https://localhost:8080/",
     "height": 35
    },
    "colab_type": "code",
    "executionInfo": {
     "elapsed": 646,
     "status": "ok",
     "timestamp": 1582035876334,
     "user": {
      "displayName": "Rr Octanty Mulianingtyas",
      "photoUrl": "",
      "userId": "09417545504749419925"
     },
     "user_tz": -120
    },
    "id": "ybv-i9l-kFFh",
    "outputId": "a130a6e2-665f-40cc-f155-ccf6eb94bbc0"
   },
   "outputs": [
    {
     "data": {
      "text/plain": [
       "RangeIndex(start=0, stop=1000, step=1)"
      ]
     },
     "execution_count": 4,
     "metadata": {},
     "output_type": "execute_result"
    }
   ],
   "source": [
    "data.index"
   ]
  },
  {
   "cell_type": "markdown",
   "metadata": {
    "colab_type": "text",
    "id": "NrVJjCstkFFr"
   },
   "source": [
    "**<font color='red'>Answer:</font>** 1000"
   ]
  },
  {
   "cell_type": "markdown",
   "metadata": {
    "colab_type": "text",
    "id": "iZrvRoUlkFFw"
   },
   "source": [
    "**1.3. Print the first 5 lines from the dataset. What are the values of feature \"Rings\" of the printed observations?** **(0.25 point)**"
   ]
  },
  {
   "cell_type": "code",
   "execution_count": 5,
   "metadata": {
    "colab": {
     "base_uri": "https://localhost:8080/",
     "height": 202
    },
    "colab_type": "code",
    "executionInfo": {
     "elapsed": 960,
     "status": "ok",
     "timestamp": 1582035914735,
     "user": {
      "displayName": "Rr Octanty Mulianingtyas",
      "photoUrl": "",
      "userId": "09417545504749419925"
     },
     "user_tz": -120
    },
    "id": "5jTAVwoykFF1",
    "outputId": "dead8218-6eb5-4c27-e92b-0de7c664d180"
   },
   "outputs": [
    {
     "data": {
      "text/html": [
       "<div>\n",
       "<style scoped>\n",
       "    .dataframe tbody tr th:only-of-type {\n",
       "        vertical-align: middle;\n",
       "    }\n",
       "\n",
       "    .dataframe tbody tr th {\n",
       "        vertical-align: top;\n",
       "    }\n",
       "\n",
       "    .dataframe thead th {\n",
       "        text-align: right;\n",
       "    }\n",
       "</style>\n",
       "<table border=\"1\" class=\"dataframe\">\n",
       "  <thead>\n",
       "    <tr style=\"text-align: right;\">\n",
       "      <th></th>\n",
       "      <th>Gender</th>\n",
       "      <th>Length</th>\n",
       "      <th>Diameter</th>\n",
       "      <th>Height</th>\n",
       "      <th>Weight</th>\n",
       "      <th>Rings</th>\n",
       "    </tr>\n",
       "  </thead>\n",
       "  <tbody>\n",
       "    <tr>\n",
       "      <td>0</td>\n",
       "      <td>F</td>\n",
       "      <td>0.505</td>\n",
       "      <td>0.385</td>\n",
       "      <td>0.135</td>\n",
       "      <td>0.6185</td>\n",
       "      <td>12</td>\n",
       "    </tr>\n",
       "    <tr>\n",
       "      <td>1</td>\n",
       "      <td>F</td>\n",
       "      <td>0.650</td>\n",
       "      <td>0.475</td>\n",
       "      <td>0.165</td>\n",
       "      <td>1.3875</td>\n",
       "      <td>9</td>\n",
       "    </tr>\n",
       "    <tr>\n",
       "      <td>2</td>\n",
       "      <td>I</td>\n",
       "      <td>0.520</td>\n",
       "      <td>0.380</td>\n",
       "      <td>0.135</td>\n",
       "      <td>0.5395</td>\n",
       "      <td>8</td>\n",
       "    </tr>\n",
       "    <tr>\n",
       "      <td>3</td>\n",
       "      <td>F</td>\n",
       "      <td>0.550</td>\n",
       "      <td>0.425</td>\n",
       "      <td>0.140</td>\n",
       "      <td>0.9520</td>\n",
       "      <td>7</td>\n",
       "    </tr>\n",
       "    <tr>\n",
       "      <td>4</td>\n",
       "      <td>M</td>\n",
       "      <td>0.640</td>\n",
       "      <td>0.525</td>\n",
       "      <td>0.180</td>\n",
       "      <td>1.3135</td>\n",
       "      <td>10</td>\n",
       "    </tr>\n",
       "  </tbody>\n",
       "</table>\n",
       "</div>"
      ],
      "text/plain": [
       "  Gender  Length  Diameter  Height  Weight  Rings\n",
       "0      F   0.505     0.385   0.135  0.6185     12\n",
       "1      F   0.650     0.475   0.165  1.3875      9\n",
       "2      I   0.520     0.380   0.135  0.5395      8\n",
       "3      F   0.550     0.425   0.140  0.9520      7\n",
       "4      M   0.640     0.525   0.180  1.3135     10"
      ]
     },
     "execution_count": 5,
     "metadata": {},
     "output_type": "execute_result"
    }
   ],
   "source": [
    "data.head()"
   ]
  },
  {
   "cell_type": "markdown",
   "metadata": {
    "colab_type": "text",
    "id": "wA9L5S_RkFGC"
   },
   "source": [
    "**<font color='red'>Answer:</font>** 12, 9, 8, 7, 10"
   ]
  },
  {
   "cell_type": "markdown",
   "metadata": {
    "colab_type": "text",
    "id": "9DSd0toCkFGF"
   },
   "source": [
    "**1.4. Extract the last 3 rows of the data frame. What is the \"Weight\" of these abalones?** **(0.25 point)**"
   ]
  },
  {
   "cell_type": "code",
   "execution_count": 6,
   "metadata": {
    "colab": {
     "base_uri": "https://localhost:8080/",
     "height": 87
    },
    "colab_type": "code",
    "executionInfo": {
     "elapsed": 1212,
     "status": "ok",
     "timestamp": 1582036009964,
     "user": {
      "displayName": "Rr Octanty Mulianingtyas",
      "photoUrl": "",
      "userId": "09417545504749419925"
     },
     "user_tz": -120
    },
    "id": "njinzRTjkFGI",
    "outputId": "aa60971e-9bf7-42a5-d801-abc7f79eb288"
   },
   "outputs": [
    {
     "data": {
      "text/plain": [
       "997    1.3195\n",
       "998    0.6455\n",
       "999    1.0070\n",
       "Name: Weight, dtype: float64"
      ]
     },
     "execution_count": 6,
     "metadata": {},
     "output_type": "execute_result"
    }
   ],
   "source": [
    "data.tail(3).Weight"
   ]
  },
  {
   "cell_type": "markdown",
   "metadata": {
    "colab_type": "text",
    "id": "M5AAYW4mkFGR"
   },
   "source": [
    "**<font color='red'>Answer:</font>** 1.3195, 0.6455, 1.0070"
   ]
  },
  {
   "cell_type": "markdown",
   "metadata": {
    "colab_type": "text",
    "id": "BRbNnDDqkFGT"
   },
   "source": [
    "**1.5. What is the value of diameter in the row 577?** **(1 point)**"
   ]
  },
  {
   "cell_type": "code",
   "execution_count": 7,
   "metadata": {
    "colab": {
     "base_uri": "https://localhost:8080/",
     "height": 35
    },
    "colab_type": "code",
    "executionInfo": {
     "elapsed": 536,
     "status": "ok",
     "timestamp": 1582036208718,
     "user": {
      "displayName": "Rr Octanty Mulianingtyas",
      "photoUrl": "",
      "userId": "09417545504749419925"
     },
     "user_tz": -120
    },
    "id": "AnmYkBXTkFGc",
    "outputId": "3262313a-152f-4eb8-82d0-b24e2bba0edf"
   },
   "outputs": [
    {
     "data": {
      "text/plain": [
       "0.51"
      ]
     },
     "execution_count": 7,
     "metadata": {},
     "output_type": "execute_result"
    }
   ],
   "source": [
    "data.loc[576]['Diameter']"
   ]
  },
  {
   "cell_type": "markdown",
   "metadata": {
    "colab_type": "text",
    "id": "J4JM1uy5kFGk"
   },
   "source": [
    "**<font color='red'>Answer:</font>** 0.51"
   ]
  },
  {
   "cell_type": "markdown",
   "metadata": {
    "colab_type": "text",
    "id": "yzrnPcOFkFGm"
   },
   "source": [
    "**1.6. What is the mean of the height column?** **(0.5 point)** <br>\n",
    "Hint 1: Use pandas describe() method"
   ]
  },
  {
   "cell_type": "code",
   "execution_count": 8,
   "metadata": {
    "colab": {
     "base_uri": "https://localhost:8080/",
     "height": 173
    },
    "colab_type": "code",
    "executionInfo": {
     "elapsed": 6374,
     "status": "ok",
     "timestamp": 1582036383118,
     "user": {
      "displayName": "Rr Octanty Mulianingtyas",
      "photoUrl": "",
      "userId": "09417545504749419925"
     },
     "user_tz": -120
    },
    "id": "h6lMtTvHkFGo",
    "outputId": "7ced254f-9582-40aa-e2bb-0e8e7e003b26"
   },
   "outputs": [
    {
     "data": {
      "text/plain": [
       "count    1000.000000\n",
       "mean        0.141100\n",
       "std         0.057064\n",
       "min         0.000000\n",
       "25%         0.115000\n",
       "50%         0.145000\n",
       "75%         0.165000\n",
       "max         1.130000\n",
       "Name: Height, dtype: float64"
      ]
     },
     "execution_count": 8,
     "metadata": {},
     "output_type": "execute_result"
    }
   ],
   "source": [
    "data['Height'].describe()"
   ]
  },
  {
   "cell_type": "markdown",
   "metadata": {
    "colab_type": "text",
    "id": "bPFJDn0HkFGx"
   },
   "source": [
    "**<font color='red'>Answer:</font>** 0.141100"
   ]
  },
  {
   "cell_type": "markdown",
   "metadata": {
    "colab_type": "text",
    "id": "mhA3LqPgkFG1"
   },
   "source": [
    "**1.7. Extract the subset of rows of the data frame where gender is M and weight values are below 0.75. What is the mean of diameter in this subset?** **(1 point)**"
   ]
  },
  {
   "cell_type": "code",
   "execution_count": 9,
   "metadata": {
    "colab": {
     "base_uri": "https://localhost:8080/",
     "height": 294
    },
    "colab_type": "code",
    "executionInfo": {
     "elapsed": 676,
     "status": "ok",
     "timestamp": 1582037508993,
     "user": {
      "displayName": "Rr Octanty Mulianingtyas",
      "photoUrl": "",
      "userId": "09417545504749419925"
     },
     "user_tz": -120
    },
    "id": "Ct5_XJNAwEUQ",
    "outputId": "6c5b5dda-2684-4cc6-8fe3-fc159fe88a68"
   },
   "outputs": [
    {
     "data": {
      "text/html": [
       "<div>\n",
       "<style scoped>\n",
       "    .dataframe tbody tr th:only-of-type {\n",
       "        vertical-align: middle;\n",
       "    }\n",
       "\n",
       "    .dataframe tbody tr th {\n",
       "        vertical-align: top;\n",
       "    }\n",
       "\n",
       "    .dataframe thead th {\n",
       "        text-align: right;\n",
       "    }\n",
       "</style>\n",
       "<table border=\"1\" class=\"dataframe\">\n",
       "  <thead>\n",
       "    <tr style=\"text-align: right;\">\n",
       "      <th></th>\n",
       "      <th>Length</th>\n",
       "      <th>Diameter</th>\n",
       "      <th>Height</th>\n",
       "      <th>Weight</th>\n",
       "      <th>Rings</th>\n",
       "    </tr>\n",
       "  </thead>\n",
       "  <tbody>\n",
       "    <tr>\n",
       "      <td>count</td>\n",
       "      <td>119.000000</td>\n",
       "      <td>119.000000</td>\n",
       "      <td>119.000000</td>\n",
       "      <td>119.000000</td>\n",
       "      <td>119.000000</td>\n",
       "    </tr>\n",
       "    <tr>\n",
       "      <td>mean</td>\n",
       "      <td>0.444118</td>\n",
       "      <td>0.342647</td>\n",
       "      <td>0.115504</td>\n",
       "      <td>0.467366</td>\n",
       "      <td>8.865546</td>\n",
       "    </tr>\n",
       "    <tr>\n",
       "      <td>std</td>\n",
       "      <td>0.075819</td>\n",
       "      <td>0.063027</td>\n",
       "      <td>0.022193</td>\n",
       "      <td>0.196004</td>\n",
       "      <td>1.986925</td>\n",
       "    </tr>\n",
       "    <tr>\n",
       "      <td>min</td>\n",
       "      <td>0.235000</td>\n",
       "      <td>0.160000</td>\n",
       "      <td>0.055000</td>\n",
       "      <td>0.051500</td>\n",
       "      <td>4.000000</td>\n",
       "    </tr>\n",
       "    <tr>\n",
       "      <td>25%</td>\n",
       "      <td>0.385000</td>\n",
       "      <td>0.295000</td>\n",
       "      <td>0.100000</td>\n",
       "      <td>0.291500</td>\n",
       "      <td>7.500000</td>\n",
       "    </tr>\n",
       "    <tr>\n",
       "      <td>50%</td>\n",
       "      <td>0.465000</td>\n",
       "      <td>0.360000</td>\n",
       "      <td>0.115000</td>\n",
       "      <td>0.495500</td>\n",
       "      <td>9.000000</td>\n",
       "    </tr>\n",
       "    <tr>\n",
       "      <td>75%</td>\n",
       "      <td>0.500000</td>\n",
       "      <td>0.385000</td>\n",
       "      <td>0.130000</td>\n",
       "      <td>0.643250</td>\n",
       "      <td>10.000000</td>\n",
       "    </tr>\n",
       "    <tr>\n",
       "      <td>max</td>\n",
       "      <td>0.575000</td>\n",
       "      <td>0.455000</td>\n",
       "      <td>0.190000</td>\n",
       "      <td>0.749500</td>\n",
       "      <td>14.000000</td>\n",
       "    </tr>\n",
       "  </tbody>\n",
       "</table>\n",
       "</div>"
      ],
      "text/plain": [
       "           Length    Diameter      Height      Weight       Rings\n",
       "count  119.000000  119.000000  119.000000  119.000000  119.000000\n",
       "mean     0.444118    0.342647    0.115504    0.467366    8.865546\n",
       "std      0.075819    0.063027    0.022193    0.196004    1.986925\n",
       "min      0.235000    0.160000    0.055000    0.051500    4.000000\n",
       "25%      0.385000    0.295000    0.100000    0.291500    7.500000\n",
       "50%      0.465000    0.360000    0.115000    0.495500    9.000000\n",
       "75%      0.500000    0.385000    0.130000    0.643250   10.000000\n",
       "max      0.575000    0.455000    0.190000    0.749500   14.000000"
      ]
     },
     "execution_count": 9,
     "metadata": {},
     "output_type": "execute_result"
    }
   ],
   "source": [
    "data[(data['Gender']==\"M\")&(data['Weight']<0.75)].describe()"
   ]
  },
  {
   "cell_type": "code",
   "execution_count": null,
   "metadata": {
    "colab": {},
    "colab_type": "code",
    "id": "xstFNRh2wEQQ"
   },
   "outputs": [],
   "source": []
  },
  {
   "cell_type": "code",
   "execution_count": 10,
   "metadata": {
    "colab": {},
    "colab_type": "code",
    "id": "1ev8hPjBkFG3"
   },
   "outputs": [
    {
     "ename": "SyntaxError",
     "evalue": "can't assign to literal (<ipython-input-10-1e36e5c5507b>, line 1)",
     "output_type": "error",
     "traceback": [
      "\u001b[1;36m  File \u001b[1;32m\"<ipython-input-10-1e36e5c5507b>\"\u001b[1;36m, line \u001b[1;32m1\u001b[0m\n\u001b[1;33m    data.index='length', level=1\u001b[0m\n\u001b[1;37m              ^\u001b[0m\n\u001b[1;31mSyntaxError\u001b[0m\u001b[1;31m:\u001b[0m can't assign to literal\n"
     ]
    }
   ],
   "source": [
    "data.index='length', level=1"
   ]
  },
  {
   "cell_type": "markdown",
   "metadata": {
    "colab_type": "text",
    "id": "1tG3mOhRkFHB"
   },
   "source": [
    "**<font color='red'>Answer:</font>** 0.342647"
   ]
  },
  {
   "cell_type": "markdown",
   "metadata": {
    "colab_type": "text",
    "id": "Nw4YHVfskFHE"
   },
   "source": [
    "**1.8. What is the minimum of length when rings is equal to 18?** **(1 point)**"
   ]
  },
  {
   "cell_type": "code",
   "execution_count": null,
   "metadata": {
    "colab": {
     "base_uri": "https://localhost:8080/",
     "height": 294
    },
    "colab_type": "code",
    "executionInfo": {
     "elapsed": 1770,
     "status": "ok",
     "timestamp": 1582037649228,
     "user": {
      "displayName": "Rr Octanty Mulianingtyas",
      "photoUrl": "",
      "userId": "09417545504749419925"
     },
     "user_tz": -120
    },
    "id": "XJQjDxlCkFHG",
    "outputId": "846ef375-b9e4-4476-9a42-d606acc69286"
   },
   "outputs": [],
   "source": [
    "data[data['Rings']==18].describe()"
   ]
  },
  {
   "cell_type": "markdown",
   "metadata": {
    "colab_type": "text",
    "id": "2HclN6XhkFHM"
   },
   "source": [
    "**<font color='red'>Answer:</font>** 0.465"
   ]
  },
  {
   "cell_type": "markdown",
   "metadata": {
    "colab_type": "text",
    "id": "_J2Tc5o9kFHO"
   },
   "source": [
    "# 2.  Data understanding (2.5 point)"
   ]
  },
  {
   "cell_type": "markdown",
   "metadata": {
    "colab_type": "text",
    "id": "uHPNOU-CkFHQ"
   },
   "source": [
    "Collecting, describing, exploring and verifying data quality are <b>very important</b> steps in any data science task. In this exercise the main goal is to understand the attributes in the 'adult' dataset.<br>"
   ]
  },
  {
   "cell_type": "markdown",
   "metadata": {
    "colab_type": "text",
    "id": "vj9eyF26kFHS"
   },
   "source": [
    "**2.0. Load data from the  `adult.csv` file.** <br>\n",
    "Hint 1: The extension of the filename may not always reflect the structure of data precisely. Are the values comma-separated (csv) or not? "
   ]
  },
  {
   "cell_type": "code",
   "execution_count": null,
   "metadata": {
    "colab": {
     "base_uri": "https://localhost:8080/",
     "height": 433
    },
    "colab_type": "code",
    "executionInfo": {
     "elapsed": 961,
     "status": "error",
     "timestamp": 1582455338375,
     "user": {
      "displayName": "Rr Octanty Mulianingtyas",
      "photoUrl": "",
      "userId": "09417545504749419925"
     },
     "user_tz": -120
    },
    "id": "hwQAaGuYkFHU",
    "outputId": "25a5d2b5-99e2-420c-ff6e-a9cbfe4c9bfc"
   },
   "outputs": [],
   "source": [
    "import numpy as np\n",
    "import pandas as pd\n",
    "\n",
    "# TODO\n",
    "data = pd.read_table('adult.csv',index_col='X')\n",
    "data"
   ]
  },
  {
   "cell_type": "markdown",
   "metadata": {
    "colab_type": "text",
    "id": "8MPJroB4kFHj"
   },
   "source": [
    "**2.1. Name all the columns in this dataset and describe the meaning of each column with one sentence.** <br>"
   ]
  },
  {
   "cell_type": "code",
   "execution_count": null,
   "metadata": {
    "colab": {
     "base_uri": "https://localhost:8080/",
     "height": 87
    },
    "colab_type": "code",
    "executionInfo": {
     "elapsed": 1096,
     "status": "ok",
     "timestamp": 1582038180914,
     "user": {
      "displayName": "Rr Octanty Mulianingtyas",
      "photoUrl": "",
      "userId": "09417545504749419925"
     },
     "user_tz": -120
    },
    "id": "plP1dwD7kFHl",
    "outputId": "3ba49581-b6b3-491b-fc11-3ee70368acc2"
   },
   "outputs": [],
   "source": [
    "data.columns"
   ]
  },
  {
   "cell_type": "markdown",
   "metadata": {
    "colab_type": "text",
    "id": "d2Ek21gqkFHz"
   },
   "source": [
    "**<font color='red'>Answer:</font>** \n",
    "-age: age of adult person\n",
    "-workclass: type of work including: private, self-employee and state-gov\n",
    "-education: latest education\n",
    "-occupation: name of job\n",
    "-capital gain: a rise in the value of a capital asset (investment or real estate) that gives it a higher worth than the purchase price [reference](https://www.investopedia.com/terms/c/capitalgain.asp)\n",
    "-capital loss: the loss incurred when a capital asset, such as an investment or real estate, decreases in value [reference](https://www.investopedia.com/terms/c/capitalloss.asp)\n",
    "-nativecountry: country which was born\n",
    "-salaries: annual salary in USD\n",
    "-jobsatisfication:Contentment (or lack of it) arising out of interplay of employee's positive and negative feelings toward his or her work [reference](http://www.businessdictionary.com/definition/job-satisfaction.html)  \n",
    "-male: describe the gender is male or no\n",
    "-female: describe the gender is female or no"
   ]
  },
  {
   "cell_type": "markdown",
   "metadata": {
    "colab_type": "text",
    "id": "gqC9Z1dHkFH2"
   },
   "source": [
    "####  2.1.1. In the following subtasks, you will have to visualise the distribution of the values for different features using appropriate diagrams. Visualisation is one of the easiest ways to get a good overview of the data and to notice any oddities, outliers etc."
   ]
  },
  {
   "cell_type": "code",
   "execution_count": null,
   "metadata": {
    "colab": {},
    "colab_type": "code",
    "id": "aE-bDkmNkFH4"
   },
   "outputs": [],
   "source": [
    "# Matplotlib is a Python 2D plotting library which produces publication quality figures in a variety of hardcopy formats \n",
    "# and interactive environments across platforms. Matplotlib can be used in Python scripts, the Python and IPython shells, \n",
    "# the Jupyter notebook, web application servers, and four graphical user interface toolkits.\n",
    "import matplotlib.pyplot as plt\n",
    "\n",
    "# allows to output plots in the notebook\n",
    "%matplotlib inline \n",
    "\n",
    "# Set the default style\n",
    "plt.style.use(\"ggplot\") "
   ]
  },
  {
   "cell_type": "markdown",
   "metadata": {
    "colab_type": "text",
    "id": "Dw99aboIkFH_"
   },
   "source": [
    "As an example, here is the age frequency histogram, where age is an attribute of type **numeric**:"
   ]
  },
  {
   "cell_type": "code",
   "execution_count": null,
   "metadata": {
    "colab": {
     "base_uri": "https://localhost:8080/",
     "height": 218
    },
    "colab_type": "code",
    "executionInfo": {
     "elapsed": 850,
     "status": "error",
     "timestamp": 1582455094935,
     "user": {
      "displayName": "Rr Octanty Mulianingtyas",
      "photoUrl": "",
      "userId": "09417545504749419925"
     },
     "user_tz": -120
    },
    "id": "-BKrLb4FkFIB",
    "outputId": "0c36598e-c38d-4006-c737-eb5f4c35188d"
   },
   "outputs": [],
   "source": [
    "# Columns may contain non-numeric values, errors or missing values. Therefore, non-numeric values must be dealt with.\n",
    "if data is not ...:\n",
    "    pd.to_numeric(data['age'], errors='coerce').hist(bins=30) # ‘coerce’ -> invalid parsing will be set as NaN\n",
    "else:\n",
    "    print('Please define `data` in earlier subtasks')"
   ]
  },
  {
   "cell_type": "markdown",
   "metadata": {
    "colab_type": "text",
    "id": "U7JbZ7PQkFIH"
   },
   "source": [
    "**2.2. Attribute `Workclass`. First, specify the type of the attribute (nominal / ordinal / numeric) and second, choose an appropriate chart type and visualise the distribution in the relative frequency scale.**"
   ]
  },
  {
   "cell_type": "markdown",
   "metadata": {
    "colab_type": "text",
    "id": "6aHPXjfhkFIa"
   },
   "source": [
    "**<font color='red'>Attribute type :</font>** Nominal"
   ]
  },
  {
   "cell_type": "code",
   "execution_count": null,
   "metadata": {
    "colab": {
     "base_uri": "https://localhost:8080/",
     "height": 235
    },
    "colab_type": "code",
    "executionInfo": {
     "elapsed": 1893,
     "status": "error",
     "timestamp": 1582455075756,
     "user": {
      "displayName": "Rr Octanty Mulianingtyas",
      "photoUrl": "",
      "userId": "09417545504749419925"
     },
     "user_tz": -120
    },
    "id": "Bp8E7hGKkFIc",
    "outputId": "0cdfae75-e4f4-4175-ccc6-eddd369218ca"
   },
   "outputs": [],
   "source": [
    "fig = plt.figure(figsize=[16, 8])\n",
    "\n",
    "ax = plt.subplot(111)\n",
    "ax.hist(data['workclass'],\n",
    "        width = 0.5,\n",
    "        weights = np.ones(len(data['workclass']))/ len(data['workclass'])\n",
    "        )\n",
    "ax.set_title('Workclass - Distribution in Relative Frequency')\n",
    "plt.xticks(rotation = 90)\n",
    "plt.show()"
   ]
  },
  {
   "cell_type": "markdown",
   "metadata": {
    "colab_type": "text",
    "id": "0rMA6scBkFIk"
   },
   "source": [
    "**2.3. Attribute `Education`. First, specify the type of the attribute (nominal / ordinal / numeric) and second, choose an appropriate chart type and visualise the distribution in the relative frequency scale.**"
   ]
  },
  {
   "cell_type": "markdown",
   "metadata": {
    "colab_type": "text",
    "id": "Nhe_9CJHkFIm"
   },
   "source": [
    "**<font color='red'>Attribute type :</font>** ordinal."
   ]
  },
  {
   "cell_type": "code",
   "execution_count": null,
   "metadata": {
    "colab": {},
    "colab_type": "code",
    "id": "7goIvCyMkFIo"
   },
   "outputs": [],
   "source": []
  },
  {
   "cell_type": "code",
   "execution_count": null,
   "metadata": {
    "colab": {
     "base_uri": "https://localhost:8080/",
     "height": 235
    },
    "colab_type": "code",
    "executionInfo": {
     "elapsed": 1893,
     "status": "error",
     "timestamp": 1582455075756,
     "user": {
      "displayName": "Rr Octanty Mulianingtyas",
      "photoUrl": "",
      "userId": "09417545504749419925"
     },
     "user_tz": -120
    },
    "id": "5-QObblfsyD9",
    "outputId": "0cdfae75-e4f4-4175-ccc6-eddd369218ca"
   },
   "outputs": [],
   "source": [
    "fig = plt.figure(figsize=[16, 8])\n",
    "\n",
    "ax = fig.add_subplot(111)\n",
    "ax.hist(data['education'],\n",
    "        width = 0.5,\n",
    "        weights = np.ones(len(data['education']))/ len(data['education'])\n",
    "        )\n",
    "ax.set_title('Relative frequency histogram')\n",
    "plt.xticks(rotation = 90)\n",
    "plt.show()"
   ]
  },
  {
   "cell_type": "markdown",
   "metadata": {
    "colab_type": "text",
    "id": "STbumuiwkFIu"
   },
   "source": [
    "**2.4. Attribute `Occupation`. First, specify the type of the attribute (nominal / ordinal / numeric) and second, choose an appropriate chart type and visualise the distribution in the relative frequency scale.**"
   ]
  },
  {
   "cell_type": "markdown",
   "metadata": {
    "colab_type": "text",
    "id": "CdZhRiO6kFIw"
   },
   "source": [
    "**<font color='red'>Attribute type :</font>** nominal."
   ]
  },
  {
   "cell_type": "code",
   "execution_count": null,
   "metadata": {
    "colab": {},
    "colab_type": "code",
    "id": "e14CLnO6kFIy"
   },
   "outputs": [],
   "source": []
  },
  {
   "cell_type": "code",
   "execution_count": null,
   "metadata": {
    "colab": {
     "base_uri": "https://localhost:8080/",
     "height": 235
    },
    "colab_type": "code",
    "executionInfo": {
     "elapsed": 1893,
     "status": "error",
     "timestamp": 1582455075756,
     "user": {
      "displayName": "Rr Octanty Mulianingtyas",
      "photoUrl": "",
      "userId": "09417545504749419925"
     },
     "user_tz": -120
    },
    "id": "usEmakKgs43r",
    "outputId": "0cdfae75-e4f4-4175-ccc6-eddd369218ca"
   },
   "outputs": [],
   "source": [
    "fig = plt.figure(figsize=[16, 8])\n",
    "\n",
    "ax = fig.add_subplot(111)\n",
    "ax.hist(data['occupation'],\n",
    "        width = 0.5,\n",
    "        weights = np.ones(len(data['occupation']))/ len(data['occupation'])\n",
    "        )\n",
    "ax.set_title('Relative frequency histogram')\n",
    "plt.xticks(rotation = 90)\n",
    "plt.show()\n"
   ]
  },
  {
   "cell_type": "markdown",
   "metadata": {
    "colab_type": "text",
    "id": "p5e-riCfkFJC"
   },
   "source": [
    "**2.5. Attribute `Native Country`. First, specify the type of the attribute (nominal / ordinal / numeric) and second, choose an appropriate chart type and visualise the distribution in the relative frequency scale.**"
   ]
  },
  {
   "cell_type": "markdown",
   "metadata": {
    "colab_type": "text",
    "id": "uTagA9pFkFJE"
   },
   "source": [
    "**<font color='red'>Attribute type :</font>** nominal"
   ]
  },
  {
   "cell_type": "code",
   "execution_count": null,
   "metadata": {
    "colab": {},
    "colab_type": "code",
    "id": "Cp_T4VqJkFJJ"
   },
   "outputs": [],
   "source": []
  },
  {
   "cell_type": "code",
   "execution_count": null,
   "metadata": {
    "colab": {
     "base_uri": "https://localhost:8080/",
     "height": 235
    },
    "colab_type": "code",
    "executionInfo": {
     "elapsed": 1893,
     "status": "error",
     "timestamp": 1582455075756,
     "user": {
      "displayName": "Rr Octanty Mulianingtyas",
      "photoUrl": "",
      "userId": "09417545504749419925"
     },
     "user_tz": -120
    },
    "id": "TD0WCdh8tb-9",
    "outputId": "0cdfae75-e4f4-4175-ccc6-eddd369218ca"
   },
   "outputs": [],
   "source": [
    "fig = plt.figure(figsize=[16,8])\n",
    "\n",
    "ax = fig.add_subplot(111)\n",
    "ax.hist(data['native.country'],\n",
    "        width = 1,\n",
    "        weights = np.ones(len(data['native.country']))/ len(data['native.country'])\n",
    "        )\n",
    "ax.set_title('Relative frequency histogram')\n",
    "plt.xticks(rotation = 90)\n",
    "plt.show()\n",
    "\n",
    "data\n"
   ]
  },
  {
   "cell_type": "markdown",
   "metadata": {
    "colab_type": "text",
    "id": "aeFOWp3xkFJU"
   },
   "source": [
    "**2.6. Attribute `Salaries`. First, specify the type of the attribute (nominal / ordinal / numeric) and second, choose an appropriate chart type and visualise the distribution in the density scale.**"
   ]
  },
  {
   "cell_type": "markdown",
   "metadata": {
    "colab_type": "text",
    "id": "SOPZq0_9kFJX"
   },
   "source": [
    "**<font color='red'>Attribute type :</font>** numeric"
   ]
  },
  {
   "cell_type": "code",
   "execution_count": null,
   "metadata": {
    "colab": {},
    "colab_type": "code",
    "id": "K1nE3w5NkFJZ"
   },
   "outputs": [],
   "source": []
  },
  {
   "cell_type": "code",
   "execution_count": null,
   "metadata": {
    "colab": {
     "base_uri": "https://localhost:8080/",
     "height": 235
    },
    "colab_type": "code",
    "executionInfo": {
     "elapsed": 1893,
     "status": "error",
     "timestamp": 1582455075756,
     "user": {
      "displayName": "Rr Octanty Mulianingtyas",
      "photoUrl": "",
      "userId": "09417545504749419925"
     },
     "user_tz": -120
    },
    "id": "TQw4LjSPujqB",
    "outputId": "0cdfae75-e4f4-4175-ccc6-eddd369218ca"
   },
   "outputs": [],
   "source": [
    "import seaborn as sns\n",
    "sns.distplot(data['salaries'], hist=True, kde=True,\n",
    "             bins=20, color = 'darkblue',\n",
    "             hist_kws={'edgecolor':'black'},\n",
    "             kde_kws={'linewidth': 2})\n",
    "\n"
   ]
  },
  {
   "cell_type": "markdown",
   "metadata": {
    "colab_type": "text",
    "id": "RS2v9QNekFJo"
   },
   "source": [
    "**2.7. Attributes `Male` and `Female`. First, specify the types of these attributes (nominal / ordinal / numeric) and second, choose an appropriate chart type and visualise the relative frequency of positive values in attribute `Male` and positive values in attribute `Female` (relative frequency of males and females).**"
   ]
  },
  {
   "cell_type": "markdown",
   "metadata": {
    "colab_type": "text",
    "id": "10_BFJVvkFJq"
   },
   "source": [
    "**<font color='red'>Attribute type :</font>** nominal"
   ]
  },
  {
   "cell_type": "code",
   "execution_count": null,
   "metadata": {
    "colab": {},
    "colab_type": "code",
    "id": "S9lqFqb1kFJv"
   },
   "outputs": [],
   "source": [
    "data['gender'] = data['male'].apply(lambda x: 'Male' if x == 1.0 else 'Female')\n",
    "\n",
    "# TODO\n",
    "fig = plt.figure(figsize=[6, 8])\n",
    "\n",
    "ax4 = plt.subplot(111)\n",
    "ax4.hist(data['gender'], \n",
    "         width = 0.5,\n",
    "         weights = np.ones(len(data['gender'])) / len(data['gender']) \n",
    "        )\n",
    "ax4.set_title('Gender - Distribution in Relative Frequency')\n",
    "plt.xticks(rotation=90)\n",
    "plt.show()"
   ]
  },
  {
   "cell_type": "markdown",
   "metadata": {
    "colab_type": "text",
    "id": "4vfU5pvgkFJ7"
   },
   "source": [
    "**2.8. Count the number of missing values in each attribute in the dataset and also report the percentage of missing values out of all rows (the original file uses '?' for missing values)**"
   ]
  },
  {
   "cell_type": "code",
   "execution_count": 13,
   "metadata": {
    "colab": {},
    "colab_type": "code",
    "id": "ny_iRHE-kFJ9",
    "scrolled": true
   },
   "outputs": [],
   "source": [
    "#TODO\n",
    "total_rows = data.shape[0]\n",
    "total_missing = 0\n",
    "if data is not data.empty:\n",
    "    for column in data.columns:\n",
    "        total_missing = len(data[data[column] == '?'])\n",
    "        if total_missing > 0:\n",
    "            print (f\"Total missing in column {column} = {total_missing}\")\n",
    "            print (f\"Percentage of missing values in attribute {column} = {round((total_missing/total_rows)*100,2)}%\")\n",
    "else:\n",
    "    print('Please define `data` in earlier subtasks')\n",
    "    "
   ]
  },
  {
   "cell_type": "markdown",
   "metadata": {
    "colab_type": "text",
    "id": "gWhnFUYskFKF"
   },
   "source": [
    "# 3.  Data preparation (1.5 points)"
   ]
  },
  {
   "cell_type": "markdown",
   "metadata": {
    "colab_type": "text",
    "id": "G3dngYlWkFKH"
   },
   "source": [
    "Preparing the data for analysis is the most crucial phase in data analysis. In this exercise, the main goal is to clean up the dataset 'adult'. The dataset has been made unclean on purpose so that you can practice cleaning it up. Most of the introduced uncleanliness is of the same kinds as described in slides of Lecture 02. Additionally, some values have been introduced which are non-sensical due to the meaning of the attribute.<br>"
   ]
  },
  {
   "cell_type": "markdown",
   "metadata": {
    "colab_type": "text",
    "id": "7mwOWCBJkFKJ"
   },
   "source": [
    "First, let's make a deep copy of the original DataFrame. Later we will compare it to the cleaned/modified DataFrame."
   ]
  },
  {
   "cell_type": "code",
   "execution_count": null,
   "metadata": {
    "colab": {},
    "colab_type": "code",
    "id": "rwXv1NYskFKK"
   },
   "outputs": [],
   "source": [
    "if data is not data.empty:\n",
    "    original_data = data.copy(deep=True) # Make a deep copy, including a copy of the data and the indices"
   ]
  },
  {
   "cell_type": "markdown",
   "metadata": {
    "colab_type": "text",
    "id": "USLjF4Z1kFKR"
   },
   "source": [
    "**3.1. Sometimes values include leading and/or trailing spaces. Remove leading and trailing whitespace from strings. Count how many rows were changed in the dataset.** <br>"
   ]
  },
  {
   "cell_type": "code",
   "execution_count": null,
   "metadata": {
    "colab": {},
    "colab_type": "code",
    "id": "5q2Hih_HkFKU"
   },
   "outputs": [],
   "source": [
    "for column in data.columns:    \n",
    "    if data[column].dtype == 'O':\n",
    "        data[column] = data[column].str.strip()\n",
    "    else:\n",
    "        print(f\"column {column} is not string\")\n",
    "        \n",
    "data.head()"
   ]
  },
  {
   "cell_type": "markdown",
   "metadata": {
    "colab_type": "text",
    "id": "DmVHA4nJkFKc"
   },
   "source": [
    "Use code below to count how many rows were affected."
   ]
  },
  {
   "cell_type": "code",
   "execution_count": null,
   "metadata": {
    "colab": {},
    "colab_type": "code",
    "id": "ta1E2PhJkFKe"
   },
   "outputs": [],
   "source": [
    "# Count differences\n",
    "if data is not data.empty:\n",
    "    data_all = pd.concat([original_data, data]).drop_duplicates()\n",
    "    diff = data_all.shape[0] - data.shape[0]\n",
    "    print ('Difference: ' + str(diff))"
   ]
  },
  {
   "cell_type": "markdown",
   "metadata": {
    "colab_type": "text",
    "id": "4cVdZ7ZIkFKk"
   },
   "source": [
    "**<font color='red'>Answer:</font>**0"
   ]
  },
  {
   "cell_type": "markdown",
   "metadata": {
    "colab_type": "text",
    "id": "V-lFgWLSkFKm"
   },
   "source": [
    "**3.2. Replace all non-sensical values in `data` with np.nan from numpy package to denote missing values (Original file uses '?' for missing values). Fix the typos in the dataset. Justify all the changes that you do, explaining why you are sure that this is a correct change and what you think the cause for such error could be.**  <br>"
   ]
  },
  {
   "cell_type": "code",
   "execution_count": null,
   "metadata": {
    "colab": {},
    "colab_type": "code",
    "id": "_jMxj03YkFKq"
   },
   "outputs": [],
   "source": [
    "data_clean = data.replace(['?','privat','UnitedStates', 'Unitedstates', 'Hong'], [np.nan,'Private','United-States', 'United-States', 'Hong-Kong'])\n",
    "data_clean.head(10)\n"
   ]
  },
  {
   "cell_type": "markdown",
   "metadata": {
    "colab_type": "text",
    "id": "PK-mWCyYkFKw"
   },
   "source": [
    "**<font color='red'>Answer:</font>** Beside replace `?` with `NaN` value, we also replace this string `['privat','UnitedStates', 'Unitedstates', 'Hong']` into `['Private','United-States', 'United-States', 'Hong-Kong']` to fix the typo and reduce the redudancy of the same value (for example: United-States and UnitedStates is the same value in `native.country`."
   ]
  },
  {
   "cell_type": "markdown",
   "metadata": {
    "colab_type": "text",
    "id": "ozFI7O7QkFKy"
   },
   "source": [
    "**3.3. Count the rows which were changed in the subtask b** <br>"
   ]
  },
  {
   "cell_type": "code",
   "execution_count": null,
   "metadata": {
    "colab": {},
    "colab_type": "code",
    "id": "9RM6qs0skFLE",
    "scrolled": true
   },
   "outputs": [],
   "source": [
    "# TODO\n",
    "if data is not data.empty:\n",
    "    data_all = pd.concat([original_data, data_clean]).drop_duplicates()\n",
    "    diff = data_all.shape[0] - data.shape[0]\n",
    "    print ('Difference: ' + str(diff))"
   ]
  },
  {
   "cell_type": "markdown",
   "metadata": {
    "colab_type": "text",
    "id": "Z3k9ExTikFLP"
   },
   "source": [
    "**<font color='red'>Answer:</font>** 4186"
   ]
  },
  {
   "cell_type": "markdown",
   "metadata": {
    "colab_type": "text",
    "id": "owzpqkWukFLR"
   },
   "source": [
    "**3.4. Report values that look suspicious whereas you are not sure whether they are definitely wrong** <br> "
   ]
  },
  {
   "cell_type": "markdown",
   "metadata": {
    "colab_type": "text",
    "id": "Ol_wv_5RkFLT"
   },
   "source": [
    "**<font color='red'>Answer:</font>** \n",
    "- value `Hong` in column `native.country`, we're not sure is it truly the name of the country `Hong Kong` or another meaning\n",
    "- value in `capital.gain` and `capital.loss` which are containing too many `0` value\n",
    "- value `Assoc-acdm` in `education` column"
   ]
  },
  {
   "cell_type": "markdown",
   "metadata": {
    "colab_type": "text",
    "id": "jhjgQvJ4kFLZ"
   },
   "source": [
    "# 4.  Gathering interesting facts about the adult dataset (1.5 points)"
   ]
  },
  {
   "cell_type": "markdown",
   "metadata": {
    "colab_type": "text",
    "id": "bjQhgw46kFLa"
   },
   "source": [
    "Useful information about the data can be acquired through visualization even before modeling."
   ]
  },
  {
   "cell_type": "markdown",
   "metadata": {
    "colab_type": "text",
    "id": "y_xs4Ut8kFLc"
   },
   "source": [
    "**4.1. Convert the attribute `Education` into type `category` and introduce the order for this attribute based on the educational level (e.g. Masters is higher education than Bachelors; use your best guess in ordering those levels for which the order is not obvious). Create a bar chart visualising the relative frequencies of values.**"
   ]
  },
  {
   "cell_type": "code",
   "execution_count": null,
   "metadata": {
    "colab": {},
    "colab_type": "code",
    "id": "zgEmHrRBkFLd"
   },
   "outputs": [],
   "source": [
    "\n",
    "data['education'] = data['education'].astype('category')\n",
    "#data['education'].cat.reorder_categories(['Doctorate','Masters',\n",
    " #                                         'Bachelors','Some-college',\n",
    "  #                                        'Prof-school','Assoc-voc',\n",
    "   #                                       'Assoc-acdm','HS-Grad','12th',\n",
    "    #                                      '11th','10th','9th',\n",
    "     #                                     '7th-8th','5th-6th','1st-4th','Preschool'\n",
    "      #                                   ])\n",
    "\n",
    "\n",
    "data['education'].value_counts(normalize=True).reindex(['Doctorate','Masters',\n",
    "                                          'Bachelors','Some-college',\n",
    "                                          'Prof-school','Assoc-voc',\n",
    "                                          'Assoc-acdm','HS-Grad','12th',\n",
    "                                          '11th','10th','9th',\n",
    "                                          '7th-8th','5th-6th','1st-4th','Preschool'\n",
    "                                         ]).plot(kind=\"bar\")\n",
    "\n",
    "\n"
   ]
  },
  {
   "cell_type": "markdown",
   "metadata": {
    "colab_type": "text",
    "id": "uSUihc04kFLo"
   },
   "source": [
    "**4.2.  Create and print a Pandas data frame where each row stands for an occupation, each column stands for a level of education, and the cells in the table contain the average salary of people with the corresponding occupation and education level.** <br> \n",
    "Hint 1: You can use crosstab, see also aggfunc from the pandas documentation."
   ]
  },
  {
   "cell_type": "code",
   "execution_count": null,
   "metadata": {
    "colab": {},
    "colab_type": "code",
    "id": "Kjb2Y8WLkFLp"
   },
   "outputs": [],
   "source": [
    "# TODO\n",
    "import numpy as np\n",
    "import pandas as pd\n",
    "\n",
    "crosstab_df = pd.crosstab(data.occupation, data.education, values = data.salaries, aggfunc=np.mean).round(2)\n",
    "crosstab_df"
   ]
  },
  {
   "cell_type": "markdown",
   "metadata": {
    "colab_type": "text",
    "id": "pp5_PqEmkFLu"
   },
   "source": [
    "**4.3. Make a separate plot for each row (occupation) of the table created in subtask b. Choose the type of the plot to convey the information as well as you can.** <br>"
   ]
  },
  {
   "cell_type": "code",
   "execution_count": null,
   "metadata": {
    "colab": {},
    "colab_type": "code",
    "id": "cl9VE_wdkFLv"
   },
   "outputs": [],
   "source": [
    "if crosstab_df is not crosstab_df.empty:\n",
    "    for index, row in crosstab_df.iterrows():\n",
    "        row.plot(kind='bar') # TODO \n",
    "        print(index)\n",
    "        plt.show()"
   ]
  },
  {
   "cell_type": "markdown",
   "metadata": {
    "colab_type": "text",
    "id": "5DCbLTtekFL2"
   },
   "source": [
    "**4.4. List 3 interesting facts that you can read out of these plots from subtask c.** <br>"
   ]
  },
  {
   "cell_type": "markdown",
   "metadata": {
    "colab_type": "text",
    "id": "DMV07csakFL6"
   },
   "source": [
    "**<font color='red'>Fact 1:</font>** For occupation armed-forces it shows that for people who have education 12th grade have higher salaries than people with bachelors, some-college. and HS-grade background."
   ]
  },
  {
   "cell_type": "markdown",
   "metadata": {
    "colab_type": "text",
    "id": "6-Xs3RzykFL9"
   },
   "source": [
    "**<font color='red'>Fact 2:</font>**  For occupation exec-managerial it shows that for people with education 5th-6th grade have the highest salaries compare to others."
   ]
  },
  {
   "cell_type": "markdown",
   "metadata": {
    "colab_type": "text",
    "id": "Qp-ViRcEkFL-"
   },
   "source": [
    "**<font color='red'>Fact 3:</font>**  For occupation farming-fishing the highest salaries is owned by people with 'Doctorate' education"
   ]
  },
  {
   "cell_type": "markdown",
   "metadata": {
    "colab_type": "text",
    "id": "4Uzi95ZUkFL_"
   },
   "source": [
    "## How long did it take you to solve the homework?\n",
    "\n",
    "* Please answer as precisely as you can. It does not affect your points or grade in any way. It is okey, if it took 0.5 hours or 24 hours. The collected information will be used to improve future homeworks.\n",
    "\n",
    "<font color='red'> **Answer:**</font>\n",
    "\n",
    "**<font color='red'>(please change X in the next cell into your estimate)</font>**\n",
    "\n",
    "6-7 hours\n",
    "\n",
    "## How much the homework is difficult?\n",
    "you can put only number between $0:10$ ($0:$ easy, $10:$ difficult)\n",
    "\n",
    "<font color='red'> **Answer: 8**</font>\n",
    "\n",
    "\n"
   ]
  }
 ],
 "metadata": {
  "colab": {
   "collapsed_sections": [
    "gqC9Z1dHkFH2",
    "gWhnFUYskFKF",
    "jhjgQvJ4kFLZ",
    "4Uzi95ZUkFL_"
   ],
   "name": "Copy of Homework 01.ipynb",
   "provenance": [
    {
     "file_id": "1nmdzG3DebIfVHifsWmpp4kVGAED9BxSn",
     "timestamp": 1581938859080
    }
   ]
  },
  "kernelspec": {
   "display_name": "Python 3",
   "language": "python",
   "name": "python3"
  },
  "language_info": {
   "codemirror_mode": {
    "name": "ipython",
    "version": 3
   },
   "file_extension": ".py",
   "mimetype": "text/x-python",
   "name": "python",
   "nbconvert_exporter": "python",
   "pygments_lexer": "ipython3",
   "version": "3.7.4"
  }
 },
 "nbformat": 4,
 "nbformat_minor": 4
}
