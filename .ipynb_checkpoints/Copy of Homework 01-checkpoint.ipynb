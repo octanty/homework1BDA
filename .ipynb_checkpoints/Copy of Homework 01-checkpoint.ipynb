{
 "cells": [
  {
   "cell_type": "markdown",
   "metadata": {
    "colab_type": "text",
    "id": "69FSOEE2kFEN"
   },
   "source": [
    "<div class=\"alert alert-block alert-info\"><b></b>\n",
    "<h1><center> <font color='black'> Homework 01  </font></center></h1>\n",
    "<h2><center> <font color='black'> Introduction and first look at the data </font></center></h2>    \n",
    "<h2><center> <font color='black'> BDA - University of Tartu - Spring 2020</font></center></h3>\n",
    "</div>"
   ]
  },
  {
   "cell_type": "markdown",
   "metadata": {
    "colab_type": "text",
    "id": "4DbT63EckFEU"
   },
   "source": [
    "# 1. Python and Pandas (4.5 points)"
   ]
  },
  {
   "cell_type": "markdown",
   "metadata": {
    "colab_type": "text",
    "id": "m38VpMo2kFEZ"
   },
   "source": [
    "* In this course we are going to use Python, and mainly Pandas data structures and data analysis tool. please make sure that you have went through the practise session carefully. After that please answer the following questions below about the abalone dataset."
   ]
  },
  {
   "cell_type": "markdown",
   "metadata": {
    "colab_type": "text",
    "id": "bxRKb3zUkFEb"
   },
   "source": [
    "First, let's import pandas package as pd and read data from the CSV file into a pandas DataFrame."
   ]
  },
  {
   "cell_type": "code",
   "execution_count": 0,
   "metadata": {
    "colab": {
     "base_uri": "https://localhost:8080/",
     "height": 415
    },
    "colab_type": "code",
    "executionInfo": {
     "elapsed": 1557,
     "status": "ok",
     "timestamp": 1582037440299,
     "user": {
      "displayName": "Rr Octanty Mulianingtyas",
      "photoUrl": "",
      "userId": "09417545504749419925"
     },
     "user_tz": -120
    },
    "id": "WX4oQlbgkFEe",
    "outputId": "119cea08-1155-4fbb-e745-12a31b30ee1c"
   },
   "outputs": [
    {
     "data": {
      "text/html": [
       "<div>\n",
       "<style scoped>\n",
       "    .dataframe tbody tr th:only-of-type {\n",
       "        vertical-align: middle;\n",
       "    }\n",
       "\n",
       "    .dataframe tbody tr th {\n",
       "        vertical-align: top;\n",
       "    }\n",
       "\n",
       "    .dataframe thead th {\n",
       "        text-align: right;\n",
       "    }\n",
       "</style>\n",
       "<table border=\"1\" class=\"dataframe\">\n",
       "  <thead>\n",
       "    <tr style=\"text-align: right;\">\n",
       "      <th></th>\n",
       "      <th>Gender</th>\n",
       "      <th>Length</th>\n",
       "      <th>Diameter</th>\n",
       "      <th>Height</th>\n",
       "      <th>Weight</th>\n",
       "      <th>Rings</th>\n",
       "    </tr>\n",
       "  </thead>\n",
       "  <tbody>\n",
       "    <tr>\n",
       "      <th>0</th>\n",
       "      <td>F</td>\n",
       "      <td>0.505</td>\n",
       "      <td>0.385</td>\n",
       "      <td>0.135</td>\n",
       "      <td>0.6185</td>\n",
       "      <td>12</td>\n",
       "    </tr>\n",
       "    <tr>\n",
       "      <th>1</th>\n",
       "      <td>F</td>\n",
       "      <td>0.650</td>\n",
       "      <td>0.475</td>\n",
       "      <td>0.165</td>\n",
       "      <td>1.3875</td>\n",
       "      <td>9</td>\n",
       "    </tr>\n",
       "    <tr>\n",
       "      <th>2</th>\n",
       "      <td>I</td>\n",
       "      <td>0.520</td>\n",
       "      <td>0.380</td>\n",
       "      <td>0.135</td>\n",
       "      <td>0.5395</td>\n",
       "      <td>8</td>\n",
       "    </tr>\n",
       "    <tr>\n",
       "      <th>3</th>\n",
       "      <td>F</td>\n",
       "      <td>0.550</td>\n",
       "      <td>0.425</td>\n",
       "      <td>0.140</td>\n",
       "      <td>0.9520</td>\n",
       "      <td>7</td>\n",
       "    </tr>\n",
       "    <tr>\n",
       "      <th>4</th>\n",
       "      <td>M</td>\n",
       "      <td>0.640</td>\n",
       "      <td>0.525</td>\n",
       "      <td>0.180</td>\n",
       "      <td>1.3135</td>\n",
       "      <td>10</td>\n",
       "    </tr>\n",
       "    <tr>\n",
       "      <th>...</th>\n",
       "      <td>...</td>\n",
       "      <td>...</td>\n",
       "      <td>...</td>\n",
       "      <td>...</td>\n",
       "      <td>...</td>\n",
       "      <td>...</td>\n",
       "    </tr>\n",
       "    <tr>\n",
       "      <th>995</th>\n",
       "      <td>I</td>\n",
       "      <td>0.550</td>\n",
       "      <td>0.415</td>\n",
       "      <td>0.135</td>\n",
       "      <td>0.8095</td>\n",
       "      <td>12</td>\n",
       "    </tr>\n",
       "    <tr>\n",
       "      <th>996</th>\n",
       "      <td>I</td>\n",
       "      <td>0.455</td>\n",
       "      <td>0.435</td>\n",
       "      <td>0.110</td>\n",
       "      <td>0.4265</td>\n",
       "      <td>8</td>\n",
       "    </tr>\n",
       "    <tr>\n",
       "      <th>997</th>\n",
       "      <td>M</td>\n",
       "      <td>0.660</td>\n",
       "      <td>0.500</td>\n",
       "      <td>0.165</td>\n",
       "      <td>1.3195</td>\n",
       "      <td>9</td>\n",
       "    </tr>\n",
       "    <tr>\n",
       "      <th>998</th>\n",
       "      <td>I</td>\n",
       "      <td>0.525</td>\n",
       "      <td>0.400</td>\n",
       "      <td>0.130</td>\n",
       "      <td>0.6455</td>\n",
       "      <td>8</td>\n",
       "    </tr>\n",
       "    <tr>\n",
       "      <th>999</th>\n",
       "      <td>M</td>\n",
       "      <td>0.515</td>\n",
       "      <td>0.395</td>\n",
       "      <td>0.135</td>\n",
       "      <td>1.0070</td>\n",
       "      <td>8</td>\n",
       "    </tr>\n",
       "  </tbody>\n",
       "</table>\n",
       "<p>1000 rows × 6 columns</p>\n",
       "</div>"
      ],
      "text/plain": [
       "    Gender  Length  Diameter  Height  Weight  Rings\n",
       "0        F   0.505     0.385   0.135  0.6185     12\n",
       "1        F   0.650     0.475   0.165  1.3875      9\n",
       "2        I   0.520     0.380   0.135  0.5395      8\n",
       "3        F   0.550     0.425   0.140  0.9520      7\n",
       "4        M   0.640     0.525   0.180  1.3135     10\n",
       "..     ...     ...       ...     ...     ...    ...\n",
       "995      I   0.550     0.415   0.135  0.8095     12\n",
       "996      I   0.455     0.435   0.110  0.4265      8\n",
       "997      M   0.660     0.500   0.165  1.3195      9\n",
       "998      I   0.525     0.400   0.130  0.6455      8\n",
       "999      M   0.515     0.395   0.135  1.0070      8\n",
       "\n",
       "[1000 rows x 6 columns]"
      ]
     },
     "execution_count": 33,
     "metadata": {
      "tags": []
     },
     "output_type": "execute_result"
    }
   ],
   "source": [
    "import pandas as pd\n",
    "data = pd.read_csv(\"abalone.csv\")\n",
    "data"
   ]
  },
  {
   "cell_type": "markdown",
   "metadata": {
    "colab_type": "text",
    "id": "Ry0aokmBkFEv"
   },
   "source": [
    "`Question 0` is an example of how you should answer the following questions. First, in the `#TODO` cell you have to write the code representing your solution. And in the answer cell write the answer with your own words. It does not have to be a full sentence."
   ]
  },
  {
   "cell_type": "markdown",
   "metadata": {
    "colab_type": "text",
    "id": "X6BdBMIukFE0"
   },
   "source": [
    " **1.0. What is overall memory consumption of the data?** (EXAMPLE)"
   ]
  },
  {
   "cell_type": "code",
   "execution_count": 0,
   "metadata": {
    "colab": {
     "base_uri": "https://localhost:8080/",
     "height": 35
    },
    "colab_type": "code",
    "executionInfo": {
     "elapsed": 695,
     "status": "ok",
     "timestamp": 1582035751412,
     "user": {
      "displayName": "Rr Octanty Mulianingtyas",
      "photoUrl": "",
      "userId": "09417545504749419925"
     },
     "user_tz": -120
    },
    "id": "ZylD5zjekFE4",
    "outputId": "b687ca51-5e9d-4be3-f6cb-c4d5a4081039"
   },
   "outputs": [
    {
     "data": {
      "text/plain": [
       "106128"
      ]
     },
     "execution_count": 5,
     "metadata": {
      "tags": []
     },
     "output_type": "execute_result"
    }
   ],
   "source": [
    "# TODO - here you have to write the code how did you find the answer.\n",
    "data.memory_usage(deep=True).sum()"
   ]
  },
  {
   "cell_type": "markdown",
   "metadata": {
    "colab_type": "text",
    "id": "GofHbfwBkFFD"
   },
   "source": [
    "**<font color='red'>Answer:</font>** The total memory usage is 102080 bytes (102,08 kb)."
   ]
  },
  {
   "cell_type": "markdown",
   "metadata": {
    "colab_type": "text",
    "id": "ha6jZ9MFkFFG"
   },
   "source": [
    " **1.1. What are the column names of the dataset?** **(0.25 point)**"
   ]
  },
  {
   "cell_type": "code",
   "execution_count": 0,
   "metadata": {
    "colab": {
     "base_uri": "https://localhost:8080/",
     "height": 35
    },
    "colab_type": "code",
    "executionInfo": {
     "elapsed": 610,
     "status": "ok",
     "timestamp": 1582035830567,
     "user": {
      "displayName": "Rr Octanty Mulianingtyas",
      "photoUrl": "",
      "userId": "09417545504749419925"
     },
     "user_tz": -120
    },
    "id": "g65HE2KUkFFM",
    "outputId": "9cd1c8ac-3ef3-49dc-e13a-0450e8699eab"
   },
   "outputs": [
    {
     "data": {
      "text/plain": [
       "Index(['Gender', 'Length', 'Diameter', 'Height', 'Weight', 'Rings'], dtype='object')"
      ]
     },
     "execution_count": 9,
     "metadata": {
      "tags": []
     },
     "output_type": "execute_result"
    }
   ],
   "source": [
    "data.columns"
   ]
  },
  {
   "cell_type": "markdown",
   "metadata": {
    "colab_type": "text",
    "id": "HDeLS7g3kFFX"
   },
   "source": [
    "Gender', 'Length', 'Diameter', 'Height', 'Weight', 'Rings"
   ]
  },
  {
   "cell_type": "markdown",
   "metadata": {
    "colab_type": "text",
    "id": "6Xgis8rckFFb"
   },
   "source": [
    "**1.2. How many observations (i.e. rows) are in this data frame?** **(0.25 point)**"
   ]
  },
  {
   "cell_type": "code",
   "execution_count": 0,
   "metadata": {
    "colab": {
     "base_uri": "https://localhost:8080/",
     "height": 35
    },
    "colab_type": "code",
    "executionInfo": {
     "elapsed": 646,
     "status": "ok",
     "timestamp": 1582035876334,
     "user": {
      "displayName": "Rr Octanty Mulianingtyas",
      "photoUrl": "",
      "userId": "09417545504749419925"
     },
     "user_tz": -120
    },
    "id": "ybv-i9l-kFFh",
    "outputId": "a130a6e2-665f-40cc-f155-ccf6eb94bbc0"
   },
   "outputs": [
    {
     "data": {
      "text/plain": [
       "RangeIndex(start=0, stop=1000, step=1)"
      ]
     },
     "execution_count": 10,
     "metadata": {
      "tags": []
     },
     "output_type": "execute_result"
    }
   ],
   "source": [
    "data.index"
   ]
  },
  {
   "cell_type": "markdown",
   "metadata": {
    "colab_type": "text",
    "id": "NrVJjCstkFFr"
   },
   "source": [
    "1000"
   ]
  },
  {
   "cell_type": "markdown",
   "metadata": {
    "colab_type": "text",
    "id": "iZrvRoUlkFFw"
   },
   "source": [
    "**1.3. Print the first 5 lines from the dataset. What are the values of feature \"Rings\" of the printed observations?** **(0.25 point)**"
   ]
  },
  {
   "cell_type": "code",
   "execution_count": 0,
   "metadata": {
    "colab": {
     "base_uri": "https://localhost:8080/",
     "height": 202
    },
    "colab_type": "code",
    "executionInfo": {
     "elapsed": 960,
     "status": "ok",
     "timestamp": 1582035914735,
     "user": {
      "displayName": "Rr Octanty Mulianingtyas",
      "photoUrl": "",
      "userId": "09417545504749419925"
     },
     "user_tz": -120
    },
    "id": "5jTAVwoykFF1",
    "outputId": "dead8218-6eb5-4c27-e92b-0de7c664d180"
   },
   "outputs": [
    {
     "data": {
      "text/html": [
       "<div>\n",
       "<style scoped>\n",
       "    .dataframe tbody tr th:only-of-type {\n",
       "        vertical-align: middle;\n",
       "    }\n",
       "\n",
       "    .dataframe tbody tr th {\n",
       "        vertical-align: top;\n",
       "    }\n",
       "\n",
       "    .dataframe thead th {\n",
       "        text-align: right;\n",
       "    }\n",
       "</style>\n",
       "<table border=\"1\" class=\"dataframe\">\n",
       "  <thead>\n",
       "    <tr style=\"text-align: right;\">\n",
       "      <th></th>\n",
       "      <th>Gender</th>\n",
       "      <th>Length</th>\n",
       "      <th>Diameter</th>\n",
       "      <th>Height</th>\n",
       "      <th>Weight</th>\n",
       "      <th>Rings</th>\n",
       "    </tr>\n",
       "  </thead>\n",
       "  <tbody>\n",
       "    <tr>\n",
       "      <th>0</th>\n",
       "      <td>F</td>\n",
       "      <td>0.505</td>\n",
       "      <td>0.385</td>\n",
       "      <td>0.135</td>\n",
       "      <td>0.6185</td>\n",
       "      <td>12</td>\n",
       "    </tr>\n",
       "    <tr>\n",
       "      <th>1</th>\n",
       "      <td>F</td>\n",
       "      <td>0.650</td>\n",
       "      <td>0.475</td>\n",
       "      <td>0.165</td>\n",
       "      <td>1.3875</td>\n",
       "      <td>9</td>\n",
       "    </tr>\n",
       "    <tr>\n",
       "      <th>2</th>\n",
       "      <td>I</td>\n",
       "      <td>0.520</td>\n",
       "      <td>0.380</td>\n",
       "      <td>0.135</td>\n",
       "      <td>0.5395</td>\n",
       "      <td>8</td>\n",
       "    </tr>\n",
       "    <tr>\n",
       "      <th>3</th>\n",
       "      <td>F</td>\n",
       "      <td>0.550</td>\n",
       "      <td>0.425</td>\n",
       "      <td>0.140</td>\n",
       "      <td>0.9520</td>\n",
       "      <td>7</td>\n",
       "    </tr>\n",
       "    <tr>\n",
       "      <th>4</th>\n",
       "      <td>M</td>\n",
       "      <td>0.640</td>\n",
       "      <td>0.525</td>\n",
       "      <td>0.180</td>\n",
       "      <td>1.3135</td>\n",
       "      <td>10</td>\n",
       "    </tr>\n",
       "  </tbody>\n",
       "</table>\n",
       "</div>"
      ],
      "text/plain": [
       "  Gender  Length  Diameter  Height  Weight  Rings\n",
       "0      F   0.505     0.385   0.135  0.6185     12\n",
       "1      F   0.650     0.475   0.165  1.3875      9\n",
       "2      I   0.520     0.380   0.135  0.5395      8\n",
       "3      F   0.550     0.425   0.140  0.9520      7\n",
       "4      M   0.640     0.525   0.180  1.3135     10"
      ]
     },
     "execution_count": 11,
     "metadata": {
      "tags": []
     },
     "output_type": "execute_result"
    }
   ],
   "source": [
    "data.head()"
   ]
  },
  {
   "cell_type": "markdown",
   "metadata": {
    "colab_type": "text",
    "id": "wA9L5S_RkFGC"
   },
   "source": [
    "data.head(), Value Rings = 12,9,8,7,10"
   ]
  },
  {
   "cell_type": "markdown",
   "metadata": {
    "colab_type": "text",
    "id": "9DSd0toCkFGF"
   },
   "source": [
    "**1.4. Extract the last 3 rows of the data frame. What is the \"Weight\" of these abalones?** **(0.25 point)**"
   ]
  },
  {
   "cell_type": "code",
   "execution_count": 0,
   "metadata": {
    "colab": {
     "base_uri": "https://localhost:8080/",
     "height": 87
    },
    "colab_type": "code",
    "executionInfo": {
     "elapsed": 1212,
     "status": "ok",
     "timestamp": 1582036009964,
     "user": {
      "displayName": "Rr Octanty Mulianingtyas",
      "photoUrl": "",
      "userId": "09417545504749419925"
     },
     "user_tz": -120
    },
    "id": "njinzRTjkFGI",
    "outputId": "aa60971e-9bf7-42a5-d801-abc7f79eb288"
   },
   "outputs": [
    {
     "data": {
      "text/plain": [
       "997    1.3195\n",
       "998    0.6455\n",
       "999    1.0070\n",
       "Name: Weight, dtype: float64"
      ]
     },
     "execution_count": 13,
     "metadata": {
      "tags": []
     },
     "output_type": "execute_result"
    }
   ],
   "source": [
    "data.tail(3).Weight"
   ]
  },
  {
   "cell_type": "markdown",
   "metadata": {
    "colab_type": "text",
    "id": "M5AAYW4mkFGR"
   },
   "source": [
    "1.3195, 0.6455, 1.0070"
   ]
  },
  {
   "cell_type": "markdown",
   "metadata": {
    "colab_type": "text",
    "id": "BRbNnDDqkFGT"
   },
   "source": [
    "**1.5. What is the value of diameter in the row 577?** **(1 point)**"
   ]
  },
  {
   "cell_type": "code",
   "execution_count": 0,
   "metadata": {
    "colab": {
     "base_uri": "https://localhost:8080/",
     "height": 35
    },
    "colab_type": "code",
    "executionInfo": {
     "elapsed": 536,
     "status": "ok",
     "timestamp": 1582036208718,
     "user": {
      "displayName": "Rr Octanty Mulianingtyas",
      "photoUrl": "",
      "userId": "09417545504749419925"
     },
     "user_tz": -120
    },
    "id": "AnmYkBXTkFGc",
    "outputId": "3262313a-152f-4eb8-82d0-b24e2bba0edf"
   },
   "outputs": [
    {
     "data": {
      "text/plain": [
       "0.51"
      ]
     },
     "execution_count": 15,
     "metadata": {
      "tags": []
     },
     "output_type": "execute_result"
    }
   ],
   "source": [
    "data.loc[576]['Diameter']"
   ]
  },
  {
   "cell_type": "markdown",
   "metadata": {
    "colab_type": "text",
    "id": "J4JM1uy5kFGk"
   },
   "source": [
    "0.51"
   ]
  },
  {
   "cell_type": "markdown",
   "metadata": {
    "colab_type": "text",
    "id": "yzrnPcOFkFGm"
   },
   "source": [
    "**1.6. What is the mean of the height column?** **(0.5 point)** <br>\n",
    "Hint 1: Use pandas describe() method"
   ]
  },
  {
   "cell_type": "code",
   "execution_count": 0,
   "metadata": {
    "colab": {
     "base_uri": "https://localhost:8080/",
     "height": 173
    },
    "colab_type": "code",
    "executionInfo": {
     "elapsed": 6374,
     "status": "ok",
     "timestamp": 1582036383118,
     "user": {
      "displayName": "Rr Octanty Mulianingtyas",
      "photoUrl": "",
      "userId": "09417545504749419925"
     },
     "user_tz": -120
    },
    "id": "h6lMtTvHkFGo",
    "outputId": "7ced254f-9582-40aa-e2bb-0e8e7e003b26"
   },
   "outputs": [
    {
     "data": {
      "text/plain": [
       "count    1000.000000\n",
       "mean        0.141100\n",
       "std         0.057064\n",
       "min         0.000000\n",
       "25%         0.115000\n",
       "50%         0.145000\n",
       "75%         0.165000\n",
       "max         1.130000\n",
       "Name: Height, dtype: float64"
      ]
     },
     "execution_count": 21,
     "metadata": {
      "tags": []
     },
     "output_type": "execute_result"
    }
   ],
   "source": [
    "data['Height'].describe()"
   ]
  },
  {
   "cell_type": "markdown",
   "metadata": {
    "colab_type": "text",
    "id": "bPFJDn0HkFGx"
   },
   "source": [
    "0.14"
   ]
  },
  {
   "cell_type": "markdown",
   "metadata": {
    "colab_type": "text",
    "id": "mhA3LqPgkFG1"
   },
   "source": [
    "**1.7. Extract the subset of rows of the data frame where gender is M and weight values are below 0.75. What is the mean of diameter in this subset?** **(1 point)**"
   ]
  },
  {
   "cell_type": "code",
   "execution_count": 0,
   "metadata": {
    "colab": {
     "base_uri": "https://localhost:8080/",
     "height": 294
    },
    "colab_type": "code",
    "executionInfo": {
     "elapsed": 676,
     "status": "ok",
     "timestamp": 1582037508993,
     "user": {
      "displayName": "Rr Octanty Mulianingtyas",
      "photoUrl": "",
      "userId": "09417545504749419925"
     },
     "user_tz": -120
    },
    "id": "Ct5_XJNAwEUQ",
    "outputId": "6c5b5dda-2684-4cc6-8fe3-fc159fe88a68"
   },
   "outputs": [
    {
     "data": {
      "text/html": [
       "<div>\n",
       "<style scoped>\n",
       "    .dataframe tbody tr th:only-of-type {\n",
       "        vertical-align: middle;\n",
       "    }\n",
       "\n",
       "    .dataframe tbody tr th {\n",
       "        vertical-align: top;\n",
       "    }\n",
       "\n",
       "    .dataframe thead th {\n",
       "        text-align: right;\n",
       "    }\n",
       "</style>\n",
       "<table border=\"1\" class=\"dataframe\">\n",
       "  <thead>\n",
       "    <tr style=\"text-align: right;\">\n",
       "      <th></th>\n",
       "      <th>Length</th>\n",
       "      <th>Diameter</th>\n",
       "      <th>Height</th>\n",
       "      <th>Weight</th>\n",
       "      <th>Rings</th>\n",
       "    </tr>\n",
       "  </thead>\n",
       "  <tbody>\n",
       "    <tr>\n",
       "      <th>count</th>\n",
       "      <td>119.000000</td>\n",
       "      <td>119.000000</td>\n",
       "      <td>119.000000</td>\n",
       "      <td>119.000000</td>\n",
       "      <td>119.000000</td>\n",
       "    </tr>\n",
       "    <tr>\n",
       "      <th>mean</th>\n",
       "      <td>0.444118</td>\n",
       "      <td>0.342647</td>\n",
       "      <td>0.115504</td>\n",
       "      <td>0.467366</td>\n",
       "      <td>8.865546</td>\n",
       "    </tr>\n",
       "    <tr>\n",
       "      <th>std</th>\n",
       "      <td>0.075819</td>\n",
       "      <td>0.063027</td>\n",
       "      <td>0.022193</td>\n",
       "      <td>0.196004</td>\n",
       "      <td>1.986925</td>\n",
       "    </tr>\n",
       "    <tr>\n",
       "      <th>min</th>\n",
       "      <td>0.235000</td>\n",
       "      <td>0.160000</td>\n",
       "      <td>0.055000</td>\n",
       "      <td>0.051500</td>\n",
       "      <td>4.000000</td>\n",
       "    </tr>\n",
       "    <tr>\n",
       "      <th>25%</th>\n",
       "      <td>0.385000</td>\n",
       "      <td>0.295000</td>\n",
       "      <td>0.100000</td>\n",
       "      <td>0.291500</td>\n",
       "      <td>7.500000</td>\n",
       "    </tr>\n",
       "    <tr>\n",
       "      <th>50%</th>\n",
       "      <td>0.465000</td>\n",
       "      <td>0.360000</td>\n",
       "      <td>0.115000</td>\n",
       "      <td>0.495500</td>\n",
       "      <td>9.000000</td>\n",
       "    </tr>\n",
       "    <tr>\n",
       "      <th>75%</th>\n",
       "      <td>0.500000</td>\n",
       "      <td>0.385000</td>\n",
       "      <td>0.130000</td>\n",
       "      <td>0.643250</td>\n",
       "      <td>10.000000</td>\n",
       "    </tr>\n",
       "    <tr>\n",
       "      <th>max</th>\n",
       "      <td>0.575000</td>\n",
       "      <td>0.455000</td>\n",
       "      <td>0.190000</td>\n",
       "      <td>0.749500</td>\n",
       "      <td>14.000000</td>\n",
       "    </tr>\n",
       "  </tbody>\n",
       "</table>\n",
       "</div>"
      ],
      "text/plain": [
       "           Length    Diameter      Height      Weight       Rings\n",
       "count  119.000000  119.000000  119.000000  119.000000  119.000000\n",
       "mean     0.444118    0.342647    0.115504    0.467366    8.865546\n",
       "std      0.075819    0.063027    0.022193    0.196004    1.986925\n",
       "min      0.235000    0.160000    0.055000    0.051500    4.000000\n",
       "25%      0.385000    0.295000    0.100000    0.291500    7.500000\n",
       "50%      0.465000    0.360000    0.115000    0.495500    9.000000\n",
       "75%      0.500000    0.385000    0.130000    0.643250   10.000000\n",
       "max      0.575000    0.455000    0.190000    0.749500   14.000000"
      ]
     },
     "execution_count": 35,
     "metadata": {
      "tags": []
     },
     "output_type": "execute_result"
    }
   ],
   "source": [
    "data[(data['Gender']==\"M\")&(data['Weight']<0.75)].describe()"
   ]
  },
  {
   "cell_type": "code",
   "execution_count": 0,
   "metadata": {
    "colab": {},
    "colab_type": "code",
    "id": "xstFNRh2wEQQ"
   },
   "outputs": [],
   "source": []
  },
  {
   "cell_type": "code",
   "execution_count": 0,
   "metadata": {
    "colab": {},
    "colab_type": "code",
    "id": "1ev8hPjBkFG3"
   },
   "outputs": [],
   "source": [
    "data.index='length', level=1"
   ]
  },
  {
   "cell_type": "markdown",
   "metadata": {
    "colab_type": "text",
    "id": "1tG3mOhRkFHB"
   },
   "source": [
    "**<font color='red'>Answer:</font>** 0.342647"
   ]
  },
  {
   "cell_type": "markdown",
   "metadata": {
    "colab_type": "text",
    "id": "Nw4YHVfskFHE"
   },
   "source": [
    "**1.8. What is the minimum of length when rings is equal to 18?** **(1 point)**"
   ]
  },
  {
   "cell_type": "code",
   "execution_count": 0,
   "metadata": {
    "colab": {
     "base_uri": "https://localhost:8080/",
     "height": 294
    },
    "colab_type": "code",
    "executionInfo": {
     "elapsed": 1770,
     "status": "ok",
     "timestamp": 1582037649228,
     "user": {
      "displayName": "Rr Octanty Mulianingtyas",
      "photoUrl": "",
      "userId": "09417545504749419925"
     },
     "user_tz": -120
    },
    "id": "XJQjDxlCkFHG",
    "outputId": "846ef375-b9e4-4476-9a42-d606acc69286"
   },
   "outputs": [
    {
     "data": {
      "text/html": [
       "<div>\n",
       "<style scoped>\n",
       "    .dataframe tbody tr th:only-of-type {\n",
       "        vertical-align: middle;\n",
       "    }\n",
       "\n",
       "    .dataframe tbody tr th {\n",
       "        vertical-align: top;\n",
       "    }\n",
       "\n",
       "    .dataframe thead th {\n",
       "        text-align: right;\n",
       "    }\n",
       "</style>\n",
       "<table border=\"1\" class=\"dataframe\">\n",
       "  <thead>\n",
       "    <tr style=\"text-align: right;\">\n",
       "      <th></th>\n",
       "      <th>Length</th>\n",
       "      <th>Diameter</th>\n",
       "      <th>Height</th>\n",
       "      <th>Weight</th>\n",
       "      <th>Rings</th>\n",
       "    </tr>\n",
       "  </thead>\n",
       "  <tbody>\n",
       "    <tr>\n",
       "      <th>count</th>\n",
       "      <td>12.000000</td>\n",
       "      <td>12.000000</td>\n",
       "      <td>12.000000</td>\n",
       "      <td>12.000000</td>\n",
       "      <td>12.0</td>\n",
       "    </tr>\n",
       "    <tr>\n",
       "      <th>mean</th>\n",
       "      <td>0.570417</td>\n",
       "      <td>0.451250</td>\n",
       "      <td>0.172917</td>\n",
       "      <td>1.076625</td>\n",
       "      <td>18.0</td>\n",
       "    </tr>\n",
       "    <tr>\n",
       "      <th>std</th>\n",
       "      <td>0.074084</td>\n",
       "      <td>0.058742</td>\n",
       "      <td>0.028956</td>\n",
       "      <td>0.414502</td>\n",
       "      <td>0.0</td>\n",
       "    </tr>\n",
       "    <tr>\n",
       "      <th>min</th>\n",
       "      <td>0.465000</td>\n",
       "      <td>0.350000</td>\n",
       "      <td>0.120000</td>\n",
       "      <td>0.494000</td>\n",
       "      <td>18.0</td>\n",
       "    </tr>\n",
       "    <tr>\n",
       "      <th>25%</th>\n",
       "      <td>0.523750</td>\n",
       "      <td>0.408750</td>\n",
       "      <td>0.162500</td>\n",
       "      <td>0.872125</td>\n",
       "      <td>18.0</td>\n",
       "    </tr>\n",
       "    <tr>\n",
       "      <th>50%</th>\n",
       "      <td>0.557500</td>\n",
       "      <td>0.442500</td>\n",
       "      <td>0.177500</td>\n",
       "      <td>1.004750</td>\n",
       "      <td>18.0</td>\n",
       "    </tr>\n",
       "    <tr>\n",
       "      <th>75%</th>\n",
       "      <td>0.608750</td>\n",
       "      <td>0.481250</td>\n",
       "      <td>0.195000</td>\n",
       "      <td>1.199500</td>\n",
       "      <td>18.0</td>\n",
       "    </tr>\n",
       "    <tr>\n",
       "      <th>max</th>\n",
       "      <td>0.725000</td>\n",
       "      <td>0.560000</td>\n",
       "      <td>0.210000</td>\n",
       "      <td>2.141000</td>\n",
       "      <td>18.0</td>\n",
       "    </tr>\n",
       "  </tbody>\n",
       "</table>\n",
       "</div>"
      ],
      "text/plain": [
       "          Length   Diameter     Height     Weight  Rings\n",
       "count  12.000000  12.000000  12.000000  12.000000   12.0\n",
       "mean    0.570417   0.451250   0.172917   1.076625   18.0\n",
       "std     0.074084   0.058742   0.028956   0.414502    0.0\n",
       "min     0.465000   0.350000   0.120000   0.494000   18.0\n",
       "25%     0.523750   0.408750   0.162500   0.872125   18.0\n",
       "50%     0.557500   0.442500   0.177500   1.004750   18.0\n",
       "75%     0.608750   0.481250   0.195000   1.199500   18.0\n",
       "max     0.725000   0.560000   0.210000   2.141000   18.0"
      ]
     },
     "execution_count": 38,
     "metadata": {
      "tags": []
     },
     "output_type": "execute_result"
    }
   ],
   "source": [
    "data[data['Rings']==18].describe()"
   ]
  },
  {
   "cell_type": "markdown",
   "metadata": {
    "colab_type": "text",
    "id": "2HclN6XhkFHM"
   },
   "source": [
    "**<font color='red'>Answer:</font>** 0.465"
   ]
  },
  {
   "cell_type": "markdown",
   "metadata": {
    "colab_type": "text",
    "id": "_J2Tc5o9kFHO"
   },
   "source": [
    "# 2.  Data understanding (2.5 point)"
   ]
  },
  {
   "cell_type": "markdown",
   "metadata": {
    "colab_type": "text",
    "id": "uHPNOU-CkFHQ"
   },
   "source": [
    "Collecting, describing, exploring and verifying data quality are <b>very important</b> steps in any data science task. In this exercise the main goal is to understand the attributes in the 'adult' dataset.<br>"
   ]
  },
  {
   "cell_type": "markdown",
   "metadata": {
    "colab_type": "text",
    "id": "vj9eyF26kFHS"
   },
   "source": [
    "**2.0. Load data from the  `adult.csv` file.** <br>\n",
    "Hint 1: The extension of the filename may not always reflect the structure of data precisely. Are the values comma-separated (csv) or not? "
   ]
  },
  {
   "cell_type": "code",
   "execution_count": 3,
   "metadata": {
    "colab": {
     "base_uri": "https://localhost:8080/",
     "height": 433
    },
    "colab_type": "code",
    "executionInfo": {
     "elapsed": 961,
     "status": "error",
     "timestamp": 1582455338375,
     "user": {
      "displayName": "Rr Octanty Mulianingtyas",
      "photoUrl": "",
      "userId": "09417545504749419925"
     },
     "user_tz": -120
    },
    "id": "hwQAaGuYkFHU",
    "outputId": "25a5d2b5-99e2-420c-ff6e-a9cbfe4c9bfc",
    "scrolled": false
   },
   "outputs": [
    {
     "data": {
      "text/html": [
       "<div>\n",
       "<style scoped>\n",
       "    .dataframe tbody tr th:only-of-type {\n",
       "        vertical-align: middle;\n",
       "    }\n",
       "\n",
       "    .dataframe tbody tr th {\n",
       "        vertical-align: top;\n",
       "    }\n",
       "\n",
       "    .dataframe thead th {\n",
       "        text-align: right;\n",
       "    }\n",
       "</style>\n",
       "<table border=\"1\" class=\"dataframe\">\n",
       "  <thead>\n",
       "    <tr style=\"text-align: right;\">\n",
       "      <th></th>\n",
       "      <th>X</th>\n",
       "      <th>age</th>\n",
       "      <th>workclass</th>\n",
       "      <th>education</th>\n",
       "      <th>occupation</th>\n",
       "      <th>capital.gain</th>\n",
       "      <th>capital.loss</th>\n",
       "      <th>native.country</th>\n",
       "      <th>salaries</th>\n",
       "      <th>jobsatisfaction</th>\n",
       "      <th>male</th>\n",
       "      <th>female</th>\n",
       "    </tr>\n",
       "  </thead>\n",
       "  <tbody>\n",
       "    <tr>\n",
       "      <td>0</td>\n",
       "      <td>0</td>\n",
       "      <td>39</td>\n",
       "      <td>State-gov</td>\n",
       "      <td>Bachelors</td>\n",
       "      <td>Adm-clerical</td>\n",
       "      <td>2174</td>\n",
       "      <td>0</td>\n",
       "      <td>United-States</td>\n",
       "      <td>43136.0</td>\n",
       "      <td>0</td>\n",
       "      <td>1.0</td>\n",
       "      <td>NaN</td>\n",
       "    </tr>\n",
       "    <tr>\n",
       "      <td>1</td>\n",
       "      <td>1</td>\n",
       "      <td>50</td>\n",
       "      <td>Self-emp-not-inc</td>\n",
       "      <td>Bachelors</td>\n",
       "      <td>Exec-managerial</td>\n",
       "      <td>0</td>\n",
       "      <td>0</td>\n",
       "      <td>UnitedStates</td>\n",
       "      <td>46209.0</td>\n",
       "      <td>7</td>\n",
       "      <td>1.0</td>\n",
       "      <td>NaN</td>\n",
       "    </tr>\n",
       "    <tr>\n",
       "      <td>2</td>\n",
       "      <td>2</td>\n",
       "      <td>38</td>\n",
       "      <td>privat</td>\n",
       "      <td>HS-grad</td>\n",
       "      <td>Handlers-cleaners</td>\n",
       "      <td>0</td>\n",
       "      <td>0</td>\n",
       "      <td>United-States</td>\n",
       "      <td>28937.0</td>\n",
       "      <td>6</td>\n",
       "      <td>1.0</td>\n",
       "      <td>NaN</td>\n",
       "    </tr>\n",
       "    <tr>\n",
       "      <td>3</td>\n",
       "      <td>3</td>\n",
       "      <td>53</td>\n",
       "      <td>privat</td>\n",
       "      <td>11th</td>\n",
       "      <td>Handlers-cleaners</td>\n",
       "      <td>0</td>\n",
       "      <td>0</td>\n",
       "      <td>United-States</td>\n",
       "      <td>33658.0</td>\n",
       "      <td>6</td>\n",
       "      <td>1.0</td>\n",
       "      <td>NaN</td>\n",
       "    </tr>\n",
       "    <tr>\n",
       "      <td>4</td>\n",
       "      <td>4</td>\n",
       "      <td>28</td>\n",
       "      <td>privat</td>\n",
       "      <td>Bachelors</td>\n",
       "      <td>Prof-specialty</td>\n",
       "      <td>0</td>\n",
       "      <td>0</td>\n",
       "      <td>Cuba</td>\n",
       "      <td>34372.0</td>\n",
       "      <td>12</td>\n",
       "      <td>NaN</td>\n",
       "      <td>1.0</td>\n",
       "    </tr>\n",
       "    <tr>\n",
       "      <td>...</td>\n",
       "      <td>...</td>\n",
       "      <td>...</td>\n",
       "      <td>...</td>\n",
       "      <td>...</td>\n",
       "      <td>...</td>\n",
       "      <td>...</td>\n",
       "      <td>...</td>\n",
       "      <td>...</td>\n",
       "      <td>...</td>\n",
       "      <td>...</td>\n",
       "      <td>...</td>\n",
       "      <td>...</td>\n",
       "    </tr>\n",
       "    <tr>\n",
       "      <td>32556</td>\n",
       "      <td>32556</td>\n",
       "      <td>27</td>\n",
       "      <td>Private</td>\n",
       "      <td>Assoc-acdm</td>\n",
       "      <td>Tech-support</td>\n",
       "      <td>0</td>\n",
       "      <td>0</td>\n",
       "      <td>United-States</td>\n",
       "      <td>21393.0</td>\n",
       "      <td>14</td>\n",
       "      <td>NaN</td>\n",
       "      <td>1.0</td>\n",
       "    </tr>\n",
       "    <tr>\n",
       "      <td>32557</td>\n",
       "      <td>32557</td>\n",
       "      <td>40</td>\n",
       "      <td>Private</td>\n",
       "      <td>HS-grad</td>\n",
       "      <td>Machine-op-inspct</td>\n",
       "      <td>0</td>\n",
       "      <td>0</td>\n",
       "      <td>United-States</td>\n",
       "      <td>75199.0</td>\n",
       "      <td>10</td>\n",
       "      <td>1.0</td>\n",
       "      <td>NaN</td>\n",
       "    </tr>\n",
       "    <tr>\n",
       "      <td>32558</td>\n",
       "      <td>32558</td>\n",
       "      <td>58</td>\n",
       "      <td>Private</td>\n",
       "      <td>HS-grad</td>\n",
       "      <td>Adm-clerical</td>\n",
       "      <td>0</td>\n",
       "      <td>0</td>\n",
       "      <td>United-States</td>\n",
       "      <td>25603.0</td>\n",
       "      <td>1</td>\n",
       "      <td>NaN</td>\n",
       "      <td>1.0</td>\n",
       "    </tr>\n",
       "    <tr>\n",
       "      <td>32559</td>\n",
       "      <td>32559</td>\n",
       "      <td>22</td>\n",
       "      <td>Private</td>\n",
       "      <td>HS-grad</td>\n",
       "      <td>Adm-clerical</td>\n",
       "      <td>0</td>\n",
       "      <td>0</td>\n",
       "      <td>United-States</td>\n",
       "      <td>42138.0</td>\n",
       "      <td>3</td>\n",
       "      <td>1.0</td>\n",
       "      <td>NaN</td>\n",
       "    </tr>\n",
       "    <tr>\n",
       "      <td>32560</td>\n",
       "      <td>32560</td>\n",
       "      <td>52</td>\n",
       "      <td>Self-emp-inc</td>\n",
       "      <td>HS-grad</td>\n",
       "      <td>Exec-managerial</td>\n",
       "      <td>15024</td>\n",
       "      <td>0</td>\n",
       "      <td>United-States</td>\n",
       "      <td>71709.0</td>\n",
       "      <td>9</td>\n",
       "      <td>NaN</td>\n",
       "      <td>1.0</td>\n",
       "    </tr>\n",
       "  </tbody>\n",
       "</table>\n",
       "<p>32561 rows × 12 columns</p>\n",
       "</div>"
      ],
      "text/plain": [
       "           X age          workclass    education          occupation  \\\n",
       "0          0  39          State-gov    Bachelors        Adm-clerical   \n",
       "1          1  50   Self-emp-not-inc    Bachelors     Exec-managerial   \n",
       "2          2  38             privat      HS-grad   Handlers-cleaners   \n",
       "3          3  53             privat         11th   Handlers-cleaners   \n",
       "4          4  28             privat    Bachelors      Prof-specialty   \n",
       "...      ...  ..                ...          ...                 ...   \n",
       "32556  32556  27            Private   Assoc-acdm        Tech-support   \n",
       "32557  32557  40            Private      HS-grad   Machine-op-inspct   \n",
       "32558  32558  58            Private      HS-grad        Adm-clerical   \n",
       "32559  32559  22            Private      HS-grad        Adm-clerical   \n",
       "32560  32560  52       Self-emp-inc      HS-grad     Exec-managerial   \n",
       "\n",
       "       capital.gain  capital.loss  native.country  salaries jobsatisfaction  \\\n",
       "0              2174             0   United-States   43136.0               0   \n",
       "1                 0             0    UnitedStates   46209.0               7   \n",
       "2                 0             0   United-States   28937.0               6   \n",
       "3                 0             0   United-States   33658.0               6   \n",
       "4                 0             0            Cuba   34372.0              12   \n",
       "...             ...           ...             ...       ...             ...   \n",
       "32556             0             0   United-States   21393.0              14   \n",
       "32557             0             0   United-States   75199.0              10   \n",
       "32558             0             0   United-States   25603.0               1   \n",
       "32559             0             0   United-States   42138.0               3   \n",
       "32560         15024             0   United-States   71709.0               9   \n",
       "\n",
       "       male  female  \n",
       "0       1.0     NaN  \n",
       "1       1.0     NaN  \n",
       "2       1.0     NaN  \n",
       "3       1.0     NaN  \n",
       "4       NaN     1.0  \n",
       "...     ...     ...  \n",
       "32556   NaN     1.0  \n",
       "32557   1.0     NaN  \n",
       "32558   NaN     1.0  \n",
       "32559   1.0     NaN  \n",
       "32560   NaN     1.0  \n",
       "\n",
       "[32561 rows x 12 columns]"
      ]
     },
     "execution_count": 3,
     "metadata": {},
     "output_type": "execute_result"
    }
   ],
   "source": [
    "import numpy as np\n",
    "import pandas as pd\n",
    "\n",
    "data =  pd.read_table('adult.csv')\n",
    "data"
   ]
  },
  {
   "cell_type": "markdown",
   "metadata": {
    "colab_type": "text",
    "id": "8MPJroB4kFHj"
   },
   "source": [
    "**2.1. Name all the columns in this dataset and describe the meaning of each column with one sentence.** <br>"
   ]
  },
  {
   "cell_type": "code",
   "execution_count": 0,
   "metadata": {
    "colab": {
     "base_uri": "https://localhost:8080/",
     "height": 87
    },
    "colab_type": "code",
    "executionInfo": {
     "elapsed": 1096,
     "status": "ok",
     "timestamp": 1582038180914,
     "user": {
      "displayName": "Rr Octanty Mulianingtyas",
      "photoUrl": "",
      "userId": "09417545504749419925"
     },
     "user_tz": -120
    },
    "id": "plP1dwD7kFHl",
    "outputId": "3ba49581-b6b3-491b-fc11-3ee70368acc2"
   },
   "outputs": [
    {
     "data": {
      "text/plain": [
       "Index(['X', 'age', 'workclass', 'education', 'occupation', 'capital.gain',\n",
       "       'capital.loss', 'native.country', 'salaries', 'jobsatisfaction', 'male',\n",
       "       'female'],\n",
       "      dtype='object')"
      ]
     },
     "execution_count": 43,
     "metadata": {
      "tags": []
     },
     "output_type": "execute_result"
    }
   ],
   "source": [
    "data.columns"
   ]
  },
  {
   "cell_type": "markdown",
   "metadata": {
    "colab_type": "text",
    "id": "d2Ek21gqkFHz"
   },
   "source": [
    "**<font color='red'>Answer:</font>** \n",
    "age: age of adult person,\n",
    "workclass: type of work including: private, self-employee and state-gov,\n",
    "education: latest education,\n",
    "occupation: name of job,\n",
    "capital gain: a rise in the value of a capital asset (investment or real estate) that gives it a higher worth than the purchase price [reference](https://www.investopedia.com/terms/c/capitalgain.asp),\n",
    "capital loss: the loss incurred when a capital asset, such as an investment or real estate, decreases in value [reference](https://www.investopedia.com/terms/c/capitalloss.asp),\n",
    "nativecountry: country which was born,\n",
    "salaries: annual salary in USD,\n",
    "jobsatisfication:Contentment (or lack of it) arising out of interplay of employee's positive and negative feelings toward his or her work [reference](http://www.businessdictionary.com/definition/job-satisfaction.html)  ,\n",
    "male: describe the gender is male or no,\n",
    "female: describe the gender is female or no"
   ]
  },
  {
   "cell_type": "markdown",
   "metadata": {
    "colab_type": "text",
    "id": "gqC9Z1dHkFH2"
   },
   "source": [
    "####  2.1.1. In the following subtasks, you will have to visualise the distribution of the values for different features using appropriate diagrams. Visualisation is one of the easiest ways to get a good overview of the data and to notice any oddities, outliers etc."
   ]
  },
  {
   "cell_type": "code",
   "execution_count": 4,
   "metadata": {
    "colab": {},
    "colab_type": "code",
    "id": "aE-bDkmNkFH4"
   },
   "outputs": [],
   "source": [
    "# Matplotlib is a Python 2D plotting library which produces publication quality figures in a variety of hardcopy formats \n",
    "# and interactive environments across platforms. Matplotlib can be used in Python scripts, the Python and IPython shells, \n",
    "# the Jupyter notebook, web application servers, and four graphical user interface toolkits.\n",
    "import matplotlib.pyplot as plt\n",
    "\n",
    "# allows to output plots in the notebook\n",
    "%matplotlib inline \n",
    "\n",
    "# Set the default style\n",
    "plt.style.use(\"ggplot\") "
   ]
  },
  {
   "cell_type": "markdown",
   "metadata": {
    "colab_type": "text",
    "id": "Dw99aboIkFH_"
   },
   "source": [
    "As an example, here is the age frequency histogram, where age is an attribute of type **numeric**:"
   ]
  },
  {
   "cell_type": "code",
   "execution_count": 5,
   "metadata": {
    "colab": {
     "base_uri": "https://localhost:8080/",
     "height": 218
    },
    "colab_type": "code",
    "executionInfo": {
     "elapsed": 850,
     "status": "error",
     "timestamp": 1582455094935,
     "user": {
      "displayName": "Rr Octanty Mulianingtyas",
      "photoUrl": "",
      "userId": "09417545504749419925"
     },
     "user_tz": -120
    },
    "id": "-BKrLb4FkFIB",
    "outputId": "0c36598e-c38d-4006-c737-eb5f4c35188d"
   },
   "outputs": [
    {
     "data": {
      "image/png": "[encoded data removed]",
      "text/plain": [
       "<Figure size 432x288 with 1 Axes>"
      ]
     },
     "metadata": {},
     "output_type": "display_data"
    }
   ],
   "source": [
    "# Columns may contain non-numeric values, errors or missing values. Therefore, non-numeric values must be dealt with.\n",
    "if data is not ...:\n",
    "    pd.to_numeric(data['age'], errors='coerce').hist(bins=30) # ‘coerce’ -> invalid parsing will be set as NaN\n",
    "else:\n",
    "    print('Please define `data` in earlier subtasks')"
   ]
  },
  {
   "cell_type": "markdown",
   "metadata": {
    "colab_type": "text",
    "id": "U7JbZ7PQkFIH"
   },
   "source": [
    "**2.2. Attribute `Workclass`. First, specify the type of the attribute (nominal / ordinal / numeric) and second, choose an appropriate chart type and visualise the distribution in the relative frequency scale.**"
   ]
  },
  {
   "cell_type": "markdown",
   "metadata": {
    "colab_type": "text",
    "id": "6aHPXjfhkFIa"
   },
   "source": [
    "**<font color='red'>Attribute type :</font>** Nominal"
   ]
  },
  {
   "cell_type": "code",
   "execution_count": 7,
   "metadata": {
    "colab": {
     "base_uri": "https://localhost:8080/",
     "height": 235
    },
    "colab_type": "code",
    "executionInfo": {
     "elapsed": 1893,
     "status": "error",
     "timestamp": 1582455075756,
     "user": {
      "displayName": "Rr Octanty Mulianingtyas",
      "photoUrl": "",
      "userId": "09417545504749419925"
     },
     "user_tz": -120
    },
    "id": "Bp8E7hGKkFIc",
    "outputId": "0cdfae75-e4f4-4175-ccc6-eddd369218ca"
   },
   "outputs": [
    {
     "data": {
      "image/png": "[encoded data removed]",
      "text/plain": [
       "<Figure size 1152x576 with 1 Axes>"
      ]
     },
     "metadata": {},
     "output_type": "display_data"
    }
   ],
   "source": [
    "fig = plt.figure(figsize=[16, 8])\n",
    "\n",
    "ax = plt.subplot(111)\n",
    "ax.hist(data['workclass'],\n",
    "        width = 0.5,\n",
    "        weights = np.ones(len(data['workclass']))/ len(data['workclass'])\n",
    "        )\n",
    "ax.set_title('Workclass - Distribution in Relative Frequency')\n",
    "plt.xticks(rotation = 90)\n",
    "plt.show()"
   ]
  },
  {
   "cell_type": "markdown",
   "metadata": {
    "colab_type": "text",
    "id": "0rMA6scBkFIk"
   },
   "source": [
    "**2.3. Attribute `Education`. First, specify the type of the attribute (nominal / ordinal / numeric) and second, choose an appropriate chart type and visualise the distribution in the relative frequency scale.**"
   ]
  },
  {
   "cell_type": "markdown",
   "metadata": {
    "colab_type": "text",
    "id": "Nhe_9CJHkFIm"
   },
   "source": [
    "**<font color='red'>Attribute type :</font>** ordinal."
   ]
  },
  {
   "cell_type": "code",
   "execution_count": 0,
   "metadata": {
    "colab": {},
    "colab_type": "code",
    "id": "7goIvCyMkFIo"
   },
   "outputs": [],
   "source": []
  },
  {
   "cell_type": "code",
   "execution_count": 9,
   "metadata": {
    "colab": {
     "base_uri": "https://localhost:8080/",
     "height": 235
    },
    "colab_type": "code",
    "executionInfo": {
     "elapsed": 1893,
     "status": "error",
     "timestamp": 1582455075756,
     "user": {
      "displayName": "Rr Octanty Mulianingtyas",
      "photoUrl": "",
      "userId": "09417545504749419925"
     },
     "user_tz": -120
    },
    "id": "5-QObblfsyD9",
    "outputId": "0cdfae75-e4f4-4175-ccc6-eddd369218ca"
   },
   "outputs": [
    {
     "data": {
      "image/png": "[encoded data removed]",
      "text/plain": [
       "<Figure size 1152x576 with 1 Axes>"
      ]
     },
     "metadata": {},
     "output_type": "display_data"
    }
   ],
   "source": [
    "fig = plt.figure(figsize=[16, 8])\n",
    "\n",
    "ax = fig.add_subplot(111)\n",
    "ax.hist(data['education'],\n",
    "        width = 0.5,\n",
    "        weights = np.ones(len(data['education']))/ len(data['education'])\n",
    "        )\n",
    "ax.set_title('Relative frequency histogram')\n",
    "plt.xticks(rotation = 90)\n",
    "plt.show()"
   ]
  },
  {
   "cell_type": "markdown",
   "metadata": {
    "colab_type": "text",
    "id": "STbumuiwkFIu"
   },
   "source": [
    "**2.4. Attribute `Occupation`. First, specify the type of the attribute (nominal / ordinal / numeric) and second, choose an appropriate chart type and visualise the distribution in the relative frequency scale.**"
   ]
  },
  {
   "cell_type": "markdown",
   "metadata": {
    "colab_type": "text",
    "id": "CdZhRiO6kFIw"
   },
   "source": [
    "**<font color='red'>Attribute type :</font>** nominal."
   ]
  },
  {
   "cell_type": "code",
   "execution_count": 0,
   "metadata": {
    "colab": {},
    "colab_type": "code",
    "id": "e14CLnO6kFIy",
    "scrolled": false
   },
   "outputs": [],
   "source": []
  },
  {
   "cell_type": "code",
   "execution_count": 10,
   "metadata": {
    "colab": {
     "base_uri": "https://localhost:8080/",
     "height": 235
    },
    "colab_type": "code",
    "executionInfo": {
     "elapsed": 1893,
     "status": "error",
     "timestamp": 1582455075756,
     "user": {
      "displayName": "Rr Octanty Mulianingtyas",
      "photoUrl": "",
      "userId": "09417545504749419925"
     },
     "user_tz": -120
    },
    "id": "usEmakKgs43r",
    "outputId": "0cdfae75-e4f4-4175-ccc6-eddd369218ca"
   },
   "outputs": [
    {
     "data": {
      "image/png": "[encoded data removed]",
      "text/plain": [
       "<Figure size 1152x576 with 1 Axes>"
      ]
     },
     "metadata": {},
     "output_type": "display_data"
    }
   ],
   "source": [
    "fig = plt.figure(figsize=[16, 8])\n",
    "\n",
    "ax = fig.add_subplot(111)\n",
    "ax.hist(data['occupation'],\n",
    "        width = 0.5,\n",
    "        weights = np.ones(len(data['occupation']))/ len(data['occupation'])\n",
    "        )\n",
    "ax.set_title('Relative frequency histogram')\n",
    "plt.xticks(rotation = 90)\n",
    "plt.show()\n"
   ]
  },
  {
   "cell_type": "markdown",
   "metadata": {
    "colab_type": "text",
    "id": "p5e-riCfkFJC"
   },
   "source": [
    "**2.5. Attribute `Native Country`. First, specify the type of the attribute (nominal / ordinal / numeric) and second, choose an appropriate chart type and visualise the distribution in the relative frequency scale.**"
   ]
  },
  {
   "cell_type": "markdown",
   "metadata": {
    "colab_type": "text",
    "id": "uTagA9pFkFJE"
   },
   "source": [
    "**<font color='red'>Attribute type :</font>** nominal"
   ]
  },
  {
   "cell_type": "code",
   "execution_count": 0,
   "metadata": {
    "colab": {},
    "colab_type": "code",
    "id": "Cp_T4VqJkFJJ",
    "scrolled": false
   },
   "outputs": [],
   "source": []
  },
  {
   "cell_type": "code",
   "execution_count": 13,
   "metadata": {
    "colab": {
     "base_uri": "https://localhost:8080/",
     "height": 235
    },
    "colab_type": "code",
    "executionInfo": {
     "elapsed": 1893,
     "status": "error",
     "timestamp": 1582455075756,
     "user": {
      "displayName": "Rr Octanty Mulianingtyas",
      "photoUrl": "",
      "userId": "09417545504749419925"
     },
     "user_tz": -120
    },
    "id": "TD0WCdh8tb-9",
    "outputId": "0cdfae75-e4f4-4175-ccc6-eddd369218ca"
   },
   "outputs": [
    {
     "data": {
      "image/png": "[encoded data removed]",
      "text/plain": [
       "<Figure size 1152x576 with 1 Axes>"
      ]
     },
     "metadata": {},
     "output_type": "display_data"
    },
    {
     "data": {
      "text/html": [
       "<div>\n",
       "<style scoped>\n",
       "    .dataframe tbody tr th:only-of-type {\n",
       "        vertical-align: middle;\n",
       "    }\n",
       "\n",
       "    .dataframe tbody tr th {\n",
       "        vertical-align: top;\n",
       "    }\n",
       "\n",
       "    .dataframe thead th {\n",
       "        text-align: right;\n",
       "    }\n",
       "</style>\n",
       "<table border=\"1\" class=\"dataframe\">\n",
       "  <thead>\n",
       "    <tr style=\"text-align: right;\">\n",
       "      <th></th>\n",
       "      <th>X</th>\n",
       "      <th>age</th>\n",
       "      <th>workclass</th>\n",
       "      <th>education</th>\n",
       "      <th>occupation</th>\n",
       "      <th>capital.gain</th>\n",
       "      <th>capital.loss</th>\n",
       "      <th>native.country</th>\n",
       "      <th>salaries</th>\n",
       "      <th>jobsatisfaction</th>\n",
       "      <th>male</th>\n",
       "      <th>female</th>\n",
       "    </tr>\n",
       "  </thead>\n",
       "  <tbody>\n",
       "    <tr>\n",
       "      <td>0</td>\n",
       "      <td>0</td>\n",
       "      <td>39</td>\n",
       "      <td>State-gov</td>\n",
       "      <td>Bachelors</td>\n",
       "      <td>Adm-clerical</td>\n",
       "      <td>2174</td>\n",
       "      <td>0</td>\n",
       "      <td>United-States</td>\n",
       "      <td>43136.0</td>\n",
       "      <td>0</td>\n",
       "      <td>1.0</td>\n",
       "      <td>NaN</td>\n",
       "    </tr>\n",
       "    <tr>\n",
       "      <td>1</td>\n",
       "      <td>1</td>\n",
       "      <td>50</td>\n",
       "      <td>Self-emp-not-inc</td>\n",
       "      <td>Bachelors</td>\n",
       "      <td>Exec-managerial</td>\n",
       "      <td>0</td>\n",
       "      <td>0</td>\n",
       "      <td>UnitedStates</td>\n",
       "      <td>46209.0</td>\n",
       "      <td>7</td>\n",
       "      <td>1.0</td>\n",
       "      <td>NaN</td>\n",
       "    </tr>\n",
       "    <tr>\n",
       "      <td>2</td>\n",
       "      <td>2</td>\n",
       "      <td>38</td>\n",
       "      <td>privat</td>\n",
       "      <td>HS-grad</td>\n",
       "      <td>Handlers-cleaners</td>\n",
       "      <td>0</td>\n",
       "      <td>0</td>\n",
       "      <td>United-States</td>\n",
       "      <td>28937.0</td>\n",
       "      <td>6</td>\n",
       "      <td>1.0</td>\n",
       "      <td>NaN</td>\n",
       "    </tr>\n",
       "    <tr>\n",
       "      <td>3</td>\n",
       "      <td>3</td>\n",
       "      <td>53</td>\n",
       "      <td>privat</td>\n",
       "      <td>11th</td>\n",
       "      <td>Handlers-cleaners</td>\n",
       "      <td>0</td>\n",
       "      <td>0</td>\n",
       "      <td>United-States</td>\n",
       "      <td>33658.0</td>\n",
       "      <td>6</td>\n",
       "      <td>1.0</td>\n",
       "      <td>NaN</td>\n",
       "    </tr>\n",
       "    <tr>\n",
       "      <td>4</td>\n",
       "      <td>4</td>\n",
       "      <td>28</td>\n",
       "      <td>privat</td>\n",
       "      <td>Bachelors</td>\n",
       "      <td>Prof-specialty</td>\n",
       "      <td>0</td>\n",
       "      <td>0</td>\n",
       "      <td>Cuba</td>\n",
       "      <td>34372.0</td>\n",
       "      <td>12</td>\n",
       "      <td>NaN</td>\n",
       "      <td>1.0</td>\n",
       "    </tr>\n",
       "    <tr>\n",
       "      <td>...</td>\n",
       "      <td>...</td>\n",
       "      <td>...</td>\n",
       "      <td>...</td>\n",
       "      <td>...</td>\n",
       "      <td>...</td>\n",
       "      <td>...</td>\n",
       "      <td>...</td>\n",
       "      <td>...</td>\n",
       "      <td>...</td>\n",
       "      <td>...</td>\n",
       "      <td>...</td>\n",
       "      <td>...</td>\n",
       "    </tr>\n",
       "    <tr>\n",
       "      <td>32556</td>\n",
       "      <td>32556</td>\n",
       "      <td>27</td>\n",
       "      <td>Private</td>\n",
       "      <td>Assoc-acdm</td>\n",
       "      <td>Tech-support</td>\n",
       "      <td>0</td>\n",
       "      <td>0</td>\n",
       "      <td>United-States</td>\n",
       "      <td>21393.0</td>\n",
       "      <td>14</td>\n",
       "      <td>NaN</td>\n",
       "      <td>1.0</td>\n",
       "    </tr>\n",
       "    <tr>\n",
       "      <td>32557</td>\n",
       "      <td>32557</td>\n",
       "      <td>40</td>\n",
       "      <td>Private</td>\n",
       "      <td>HS-grad</td>\n",
       "      <td>Machine-op-inspct</td>\n",
       "      <td>0</td>\n",
       "      <td>0</td>\n",
       "      <td>United-States</td>\n",
       "      <td>75199.0</td>\n",
       "      <td>10</td>\n",
       "      <td>1.0</td>\n",
       "      <td>NaN</td>\n",
       "    </tr>\n",
       "    <tr>\n",
       "      <td>32558</td>\n",
       "      <td>32558</td>\n",
       "      <td>58</td>\n",
       "      <td>Private</td>\n",
       "      <td>HS-grad</td>\n",
       "      <td>Adm-clerical</td>\n",
       "      <td>0</td>\n",
       "      <td>0</td>\n",
       "      <td>United-States</td>\n",
       "      <td>25603.0</td>\n",
       "      <td>1</td>\n",
       "      <td>NaN</td>\n",
       "      <td>1.0</td>\n",
       "    </tr>\n",
       "    <tr>\n",
       "      <td>32559</td>\n",
       "      <td>32559</td>\n",
       "      <td>22</td>\n",
       "      <td>Private</td>\n",
       "      <td>HS-grad</td>\n",
       "      <td>Adm-clerical</td>\n",
       "      <td>0</td>\n",
       "      <td>0</td>\n",
       "      <td>United-States</td>\n",
       "      <td>42138.0</td>\n",
       "      <td>3</td>\n",
       "      <td>1.0</td>\n",
       "      <td>NaN</td>\n",
       "    </tr>\n",
       "    <tr>\n",
       "      <td>32560</td>\n",
       "      <td>32560</td>\n",
       "      <td>52</td>\n",
       "      <td>Self-emp-inc</td>\n",
       "      <td>HS-grad</td>\n",
       "      <td>Exec-managerial</td>\n",
       "      <td>15024</td>\n",
       "      <td>0</td>\n",
       "      <td>United-States</td>\n",
       "      <td>71709.0</td>\n",
       "      <td>9</td>\n",
       "      <td>NaN</td>\n",
       "      <td>1.0</td>\n",
       "    </tr>\n",
       "  </tbody>\n",
       "</table>\n",
       "<p>32561 rows × 12 columns</p>\n",
       "</div>"
      ],
      "text/plain": [
       "           X age          workclass    education          occupation  \\\n",
       "0          0  39          State-gov    Bachelors        Adm-clerical   \n",
       "1          1  50   Self-emp-not-inc    Bachelors     Exec-managerial   \n",
       "2          2  38             privat      HS-grad   Handlers-cleaners   \n",
       "3          3  53             privat         11th   Handlers-cleaners   \n",
       "4          4  28             privat    Bachelors      Prof-specialty   \n",
       "...      ...  ..                ...          ...                 ...   \n",
       "32556  32556  27            Private   Assoc-acdm        Tech-support   \n",
       "32557  32557  40            Private      HS-grad   Machine-op-inspct   \n",
       "32558  32558  58            Private      HS-grad        Adm-clerical   \n",
       "32559  32559  22            Private      HS-grad        Adm-clerical   \n",
       "32560  32560  52       Self-emp-inc      HS-grad     Exec-managerial   \n",
       "\n",
       "       capital.gain  capital.loss  native.country  salaries jobsatisfaction  \\\n",
       "0              2174             0   United-States   43136.0               0   \n",
       "1                 0             0    UnitedStates   46209.0               7   \n",
       "2                 0             0   United-States   28937.0               6   \n",
       "3                 0             0   United-States   33658.0               6   \n",
       "4                 0             0            Cuba   34372.0              12   \n",
       "...             ...           ...             ...       ...             ...   \n",
       "32556             0             0   United-States   21393.0              14   \n",
       "32557             0             0   United-States   75199.0              10   \n",
       "32558             0             0   United-States   25603.0               1   \n",
       "32559             0             0   United-States   42138.0               3   \n",
       "32560         15024             0   United-States   71709.0               9   \n",
       "\n",
       "       male  female  \n",
       "0       1.0     NaN  \n",
       "1       1.0     NaN  \n",
       "2       1.0     NaN  \n",
       "3       1.0     NaN  \n",
       "4       NaN     1.0  \n",
       "...     ...     ...  \n",
       "32556   NaN     1.0  \n",
       "32557   1.0     NaN  \n",
       "32558   NaN     1.0  \n",
       "32559   1.0     NaN  \n",
       "32560   NaN     1.0  \n",
       "\n",
       "[32561 rows x 12 columns]"
      ]
     },
     "execution_count": 13,
     "metadata": {},
     "output_type": "execute_result"
    }
   ],
   "source": [
    "fig = plt.figure(figsize=[16,8])\n",
    "\n",
    "ax = fig.add_subplot(111)\n",
    "ax.hist(data['native.country'],\n",
    "        width = 1,\n",
    "        weights = np.ones(len(data['native.country']))/ len(data['native.country'])\n",
    "        )\n",
    "ax.set_title('Relative frequency histogram')\n",
    "plt.xticks(rotation = 90)\n",
    "plt.show()\n",
    "\n",
    "data\n"
   ]
  },
  {
   "cell_type": "markdown",
   "metadata": {
    "colab_type": "text",
    "id": "aeFOWp3xkFJU"
   },
   "source": [
    "**2.6. Attribute `Salaries`. First, specify the type of the attribute (nominal / ordinal / numeric) and second, choose an appropriate chart type and visualise the distribution in the density scale.**"
   ]
  },
  {
   "cell_type": "markdown",
   "metadata": {
    "colab_type": "text",
    "id": "SOPZq0_9kFJX"
   },
   "source": [
    "**<font color='red'>Attribute type :</font>** Salaries."
   ]
  },
  {
   "cell_type": "code",
   "execution_count": 0,
   "metadata": {
    "colab": {},
    "colab_type": "code",
    "id": "K1nE3w5NkFJZ",
    "scrolled": false
   },
   "outputs": [],
   "source": []
  },
  {
   "cell_type": "code",
   "execution_count": 8,
   "metadata": {
    "colab": {
     "base_uri": "https://localhost:8080/",
     "height": 235
    },
    "colab_type": "code",
    "executionInfo": {
     "elapsed": 1893,
     "status": "error",
     "timestamp": 1582455075756,
     "user": {
      "displayName": "Rr Octanty Mulianingtyas",
      "photoUrl": "",
      "userId": "09417545504749419925"
     },
     "user_tz": -120
    },
    "id": "TQw4LjSPujqB",
    "outputId": "0cdfae75-e4f4-4175-ccc6-eddd369218ca"
   },
   "outputs": [
    {
     "data": {
      "text/plain": [
       "<matplotlib.axes._subplots.AxesSubplot at 0x17c71149b88>"
      ]
     },
     "execution_count": 8,
     "metadata": {},
     "output_type": "execute_result"
    },
    {
     "data": {
      "image/png": "[encoded data removed]",
      "text/plain": [
       "<Figure size 432x288 with 1 Axes>"
      ]
     },
     "metadata": {
      "needs_background": "light"
     },
     "output_type": "display_data"
    }
   ],
   "source": [
    "import seaborn as sns\n",
    "sns.distplot(data['salaries'], hist=True, kde=True,\n",
    "             bins=20, color = 'darkblue',\n",
    "             hist_kws={'edgecolor':'black'},\n",
    "             kde_kws={'linewidth': 2})\n",
    "\n"
   ]
  },
  {
   "cell_type": "markdown",
   "metadata": {
    "colab_type": "text",
    "id": "RS2v9QNekFJo"
   },
   "source": [
    "**2.7. Attributes `Male` and `Female`. First, specify the types of these attributes (nominal / ordinal / numeric) and second, choose an appropriate chart type and visualise the relative frequency of positive values in attribute `Male` and positive values in attribute `Female` (relative frequency of males and females).**"
   ]
  },
  {
   "cell_type": "markdown",
   "metadata": {
    "colab_type": "text",
    "id": "10_BFJVvkFJq"
   },
   "source": [
    "**<font color='red'>Attribute type :</font>** Answer goes here."
   ]
  },
  {
   "cell_type": "code",
   "execution_count": 19,
   "metadata": {
    "colab": {},
    "colab_type": "code",
    "id": "S9lqFqb1kFJv",
    "scrolled": false
   },
   "outputs": [
    {
     "data": {
      "image/png": "[encoded data removed]",
      "text/plain": [
       "<Figure size 432x576 with 1 Axes>"
      ]
     },
     "metadata": {},
     "output_type": "display_data"
    }
   ],
   "source": [
    "data['gender'] = data['male'].apply(lambda x: 'Male' if x == 1.0 else 'Female')\n",
    "\n",
    "# TODO\n",
    "fig = plt.figure(figsize=[6, 8])\n",
    "\n",
    "ax4 = plt.subplot(111)\n",
    "ax4.hist(data['gender'], \n",
    "         width = 0.5,\n",
    "         weights = np.ones(len(data['gender'])) / len(data['gender']) \n",
    "        )\n",
    "ax4.set_title('Gender - Distribution in Relative Frequency')\n",
    "plt.xticks(rotation=90)\n",
    "plt.show()"
   ]
  },
  {
   "cell_type": "markdown",
   "metadata": {
    "colab_type": "text",
    "id": "4vfU5pvgkFJ7"
   },
   "source": [
    "**2.8. Count the number of missing values in each attribute in the dataset and also report the percentage of missing values out of all rows (the original file uses '?' for missing values)**"
   ]
  },
  {
   "cell_type": "code",
   "execution_count": 87,
   "metadata": {
    "colab": {},
    "colab_type": "code",
    "id": "ny_iRHE-kFJ9",
    "scrolled": true
   },
   "outputs": [
    {
     "name": "stdout",
     "output_type": "stream",
     "text": [
      "32561\n",
      "32561\n",
      "32561\n",
      "32561\n",
      "32561\n",
      "32561\n",
      "32561\n",
      "32561\n",
      "32561\n",
      "32561\n",
      "32561\n",
      "32561\n"
     ]
    },
    {
     "data": {
      "text/html": [
       "<div>\n",
       "<style scoped>\n",
       "    .dataframe tbody tr th:only-of-type {\n",
       "        vertical-align: middle;\n",
       "    }\n",
       "\n",
       "    .dataframe tbody tr th {\n",
       "        vertical-align: top;\n",
       "    }\n",
       "\n",
       "    .dataframe thead th {\n",
       "        text-align: right;\n",
       "    }\n",
       "</style>\n",
       "<table border=\"1\" class=\"dataframe\">\n",
       "  <thead>\n",
       "    <tr style=\"text-align: right;\">\n",
       "      <th></th>\n",
       "      <th>X</th>\n",
       "      <th>age</th>\n",
       "      <th>workclass</th>\n",
       "      <th>education</th>\n",
       "      <th>occupation</th>\n",
       "      <th>capital.gain</th>\n",
       "      <th>capital.loss</th>\n",
       "      <th>native.country</th>\n",
       "      <th>salaries</th>\n",
       "      <th>jobsatisfaction</th>\n",
       "      <th>male</th>\n",
       "      <th>female</th>\n",
       "    </tr>\n",
       "  </thead>\n",
       "  <tbody>\n",
       "    <tr>\n",
       "      <td>0</td>\n",
       "      <td>None</td>\n",
       "      <td>None</td>\n",
       "      <td>None</td>\n",
       "      <td>NaN</td>\n",
       "      <td>None</td>\n",
       "      <td>None</td>\n",
       "      <td>None</td>\n",
       "      <td>None</td>\n",
       "      <td>None</td>\n",
       "      <td>None</td>\n",
       "      <td>None</td>\n",
       "      <td>None</td>\n",
       "    </tr>\n",
       "    <tr>\n",
       "      <td>1</td>\n",
       "      <td>None</td>\n",
       "      <td>None</td>\n",
       "      <td>None</td>\n",
       "      <td>NaN</td>\n",
       "      <td>None</td>\n",
       "      <td>None</td>\n",
       "      <td>None</td>\n",
       "      <td>None</td>\n",
       "      <td>None</td>\n",
       "      <td>None</td>\n",
       "      <td>None</td>\n",
       "      <td>None</td>\n",
       "    </tr>\n",
       "    <tr>\n",
       "      <td>2</td>\n",
       "      <td>None</td>\n",
       "      <td>None</td>\n",
       "      <td>None</td>\n",
       "      <td>NaN</td>\n",
       "      <td>None</td>\n",
       "      <td>None</td>\n",
       "      <td>None</td>\n",
       "      <td>None</td>\n",
       "      <td>None</td>\n",
       "      <td>None</td>\n",
       "      <td>None</td>\n",
       "      <td>None</td>\n",
       "    </tr>\n",
       "    <tr>\n",
       "      <td>3</td>\n",
       "      <td>None</td>\n",
       "      <td>None</td>\n",
       "      <td>None</td>\n",
       "      <td>NaN</td>\n",
       "      <td>None</td>\n",
       "      <td>None</td>\n",
       "      <td>None</td>\n",
       "      <td>None</td>\n",
       "      <td>None</td>\n",
       "      <td>None</td>\n",
       "      <td>None</td>\n",
       "      <td>None</td>\n",
       "    </tr>\n",
       "    <tr>\n",
       "      <td>4</td>\n",
       "      <td>None</td>\n",
       "      <td>None</td>\n",
       "      <td>None</td>\n",
       "      <td>NaN</td>\n",
       "      <td>None</td>\n",
       "      <td>None</td>\n",
       "      <td>None</td>\n",
       "      <td>None</td>\n",
       "      <td>None</td>\n",
       "      <td>None</td>\n",
       "      <td>None</td>\n",
       "      <td>None</td>\n",
       "    </tr>\n",
       "    <tr>\n",
       "      <td>...</td>\n",
       "      <td>...</td>\n",
       "      <td>...</td>\n",
       "      <td>...</td>\n",
       "      <td>...</td>\n",
       "      <td>...</td>\n",
       "      <td>...</td>\n",
       "      <td>...</td>\n",
       "      <td>...</td>\n",
       "      <td>...</td>\n",
       "      <td>...</td>\n",
       "      <td>...</td>\n",
       "      <td>...</td>\n",
       "    </tr>\n",
       "    <tr>\n",
       "      <td>32556</td>\n",
       "      <td>None</td>\n",
       "      <td>None</td>\n",
       "      <td>None</td>\n",
       "      <td>NaN</td>\n",
       "      <td>None</td>\n",
       "      <td>None</td>\n",
       "      <td>None</td>\n",
       "      <td>None</td>\n",
       "      <td>None</td>\n",
       "      <td>None</td>\n",
       "      <td>None</td>\n",
       "      <td>None</td>\n",
       "    </tr>\n",
       "    <tr>\n",
       "      <td>32557</td>\n",
       "      <td>None</td>\n",
       "      <td>None</td>\n",
       "      <td>None</td>\n",
       "      <td>NaN</td>\n",
       "      <td>None</td>\n",
       "      <td>None</td>\n",
       "      <td>None</td>\n",
       "      <td>None</td>\n",
       "      <td>None</td>\n",
       "      <td>None</td>\n",
       "      <td>None</td>\n",
       "      <td>None</td>\n",
       "    </tr>\n",
       "    <tr>\n",
       "      <td>32558</td>\n",
       "      <td>None</td>\n",
       "      <td>None</td>\n",
       "      <td>None</td>\n",
       "      <td>NaN</td>\n",
       "      <td>None</td>\n",
       "      <td>None</td>\n",
       "      <td>None</td>\n",
       "      <td>None</td>\n",
       "      <td>None</td>\n",
       "      <td>None</td>\n",
       "      <td>None</td>\n",
       "      <td>None</td>\n",
       "    </tr>\n",
       "    <tr>\n",
       "      <td>32559</td>\n",
       "      <td>None</td>\n",
       "      <td>None</td>\n",
       "      <td>None</td>\n",
       "      <td>NaN</td>\n",
       "      <td>None</td>\n",
       "      <td>None</td>\n",
       "      <td>None</td>\n",
       "      <td>None</td>\n",
       "      <td>None</td>\n",
       "      <td>None</td>\n",
       "      <td>None</td>\n",
       "      <td>None</td>\n",
       "    </tr>\n",
       "    <tr>\n",
       "      <td>32560</td>\n",
       "      <td>None</td>\n",
       "      <td>None</td>\n",
       "      <td>None</td>\n",
       "      <td>NaN</td>\n",
       "      <td>None</td>\n",
       "      <td>None</td>\n",
       "      <td>None</td>\n",
       "      <td>None</td>\n",
       "      <td>None</td>\n",
       "      <td>None</td>\n",
       "      <td>None</td>\n",
       "      <td>None</td>\n",
       "    </tr>\n",
       "  </tbody>\n",
       "</table>\n",
       "<p>32561 rows × 12 columns</p>\n",
       "</div>"
      ],
      "text/plain": [
       "          X   age workclass education occupation capital.gain capital.loss  \\\n",
       "0      None  None      None       NaN       None         None         None   \n",
       "1      None  None      None       NaN       None         None         None   \n",
       "2      None  None      None       NaN       None         None         None   \n",
       "3      None  None      None       NaN       None         None         None   \n",
       "4      None  None      None       NaN       None         None         None   \n",
       "...     ...   ...       ...       ...        ...          ...          ...   \n",
       "32556  None  None      None       NaN       None         None         None   \n",
       "32557  None  None      None       NaN       None         None         None   \n",
       "32558  None  None      None       NaN       None         None         None   \n",
       "32559  None  None      None       NaN       None         None         None   \n",
       "32560  None  None      None       NaN       None         None         None   \n",
       "\n",
       "      native.country salaries jobsatisfaction  male female  \n",
       "0               None     None            None  None   None  \n",
       "1               None     None            None  None   None  \n",
       "2               None     None            None  None   None  \n",
       "3               None     None            None  None   None  \n",
       "4               None     None            None  None   None  \n",
       "...              ...      ...             ...   ...    ...  \n",
       "32556           None     None            None  None   None  \n",
       "32557           None     None            None  None   None  \n",
       "32558           None     None            None  None   None  \n",
       "32559           None     None            None  None   None  \n",
       "32560           None     None            None  None   None  \n",
       "\n",
       "[32561 rows x 12 columns]"
      ]
     },
     "execution_count": 87,
     "metadata": {},
     "output_type": "execute_result"
    }
   ],
   "source": [
    "#TODO\n",
    "import numpy as np\n",
    "\n",
    "total_rows = data.count()\n",
    "if data is not data.empty:\n",
    "    data = data.replace(np.nan, np.nan)\n",
    "    for column in data.columns:    \n",
    "        total_missing = data[column].isnull().sum()\n",
    "        if total_missing > 0:\n",
    "            print (total_missing)\n",
    "        else:\n",
    "            print('No data')\n",
    "else:\n",
    "    print('Please define `data` in earlier subtasks')\n",
    "    \n",
    "data"
   ]
  },
  {
   "cell_type": "markdown",
   "metadata": {
    "colab_type": "text",
    "id": "gWhnFUYskFKF"
   },
   "source": [
    "# 3.  Data preparation (1.5 points)"
   ]
  },
  {
   "cell_type": "markdown",
   "metadata": {
    "colab_type": "text",
    "id": "G3dngYlWkFKH"
   },
   "source": [
    "Preparing the data for analysis is the most crucial phase in data analysis. In this exercise, the main goal is to clean up the dataset 'adult'. The dataset has been made unclean on purpose so that you can practice cleaning it up. Most of the introduced uncleanliness is of the same kinds as described in slides of Lecture 02. Additionally, some values have been introduced which are non-sensical due to the meaning of the attribute.<br>"
   ]
  },
  {
   "cell_type": "markdown",
   "metadata": {
    "colab_type": "text",
    "id": "7mwOWCBJkFKJ"
   },
   "source": [
    "First, let's make a deep copy of the original DataFrame. Later we will compare it to the cleaned/modified DataFrame."
   ]
  },
  {
   "cell_type": "code",
   "execution_count": 20,
   "metadata": {
    "colab": {},
    "colab_type": "code",
    "id": "rwXv1NYskFKK",
    "scrolled": false
   },
   "outputs": [],
   "source": [
    "if data is not data.empty:\n",
    "    original_data = data.copy(deep=True) # Make a deep copy, including a copy of the data and the indices"
   ]
  },
  {
   "cell_type": "markdown",
   "metadata": {
    "colab_type": "text",
    "id": "USLjF4Z1kFKR"
   },
   "source": [
    "**3.1. Sometimes values include leading and/or trailing spaces. Remove leading and trailing whitespace from strings. Count how many rows were changed in the dataset.** <br>"
   ]
  },
  {
   "cell_type": "code",
   "execution_count": 22,
   "metadata": {
    "colab": {},
    "colab_type": "code",
    "id": "5q2Hih_HkFKU"
   },
   "outputs": [
    {
     "name": "stdout",
     "output_type": "stream",
     "text": [
      "column X is not string\n",
      "column capital.gain is not string\n",
      "column capital.loss is not string\n",
      "column salaries is not string\n",
      "column male is not string\n",
      "column female is not string\n"
     ]
    },
    {
     "data": {
      "text/html": [
       "<div>\n",
       "<style scoped>\n",
       "    .dataframe tbody tr th:only-of-type {\n",
       "        vertical-align: middle;\n",
       "    }\n",
       "\n",
       "    .dataframe tbody tr th {\n",
       "        vertical-align: top;\n",
       "    }\n",
       "\n",
       "    .dataframe thead th {\n",
       "        text-align: right;\n",
       "    }\n",
       "</style>\n",
       "<table border=\"1\" class=\"dataframe\">\n",
       "  <thead>\n",
       "    <tr style=\"text-align: right;\">\n",
       "      <th></th>\n",
       "      <th>X</th>\n",
       "      <th>age</th>\n",
       "      <th>workclass</th>\n",
       "      <th>education</th>\n",
       "      <th>occupation</th>\n",
       "      <th>capital.gain</th>\n",
       "      <th>capital.loss</th>\n",
       "      <th>native.country</th>\n",
       "      <th>salaries</th>\n",
       "      <th>jobsatisfaction</th>\n",
       "      <th>male</th>\n",
       "      <th>female</th>\n",
       "      <th>gender</th>\n",
       "    </tr>\n",
       "  </thead>\n",
       "  <tbody>\n",
       "    <tr>\n",
       "      <td>0</td>\n",
       "      <td>0</td>\n",
       "      <td>39</td>\n",
       "      <td>State-gov</td>\n",
       "      <td>Bachelors</td>\n",
       "      <td>Adm-clerical</td>\n",
       "      <td>2174</td>\n",
       "      <td>0</td>\n",
       "      <td>United-States</td>\n",
       "      <td>43136.0</td>\n",
       "      <td>0</td>\n",
       "      <td>1.0</td>\n",
       "      <td>NaN</td>\n",
       "      <td>Male</td>\n",
       "    </tr>\n",
       "    <tr>\n",
       "      <td>1</td>\n",
       "      <td>1</td>\n",
       "      <td>50</td>\n",
       "      <td>Self-emp-not-inc</td>\n",
       "      <td>Bachelors</td>\n",
       "      <td>Exec-managerial</td>\n",
       "      <td>0</td>\n",
       "      <td>0</td>\n",
       "      <td>UnitedStates</td>\n",
       "      <td>46209.0</td>\n",
       "      <td>7</td>\n",
       "      <td>1.0</td>\n",
       "      <td>NaN</td>\n",
       "      <td>Male</td>\n",
       "    </tr>\n",
       "    <tr>\n",
       "      <td>2</td>\n",
       "      <td>2</td>\n",
       "      <td>38</td>\n",
       "      <td>privat</td>\n",
       "      <td>HS-grad</td>\n",
       "      <td>Handlers-cleaners</td>\n",
       "      <td>0</td>\n",
       "      <td>0</td>\n",
       "      <td>United-States</td>\n",
       "      <td>28937.0</td>\n",
       "      <td>6</td>\n",
       "      <td>1.0</td>\n",
       "      <td>NaN</td>\n",
       "      <td>Male</td>\n",
       "    </tr>\n",
       "    <tr>\n",
       "      <td>3</td>\n",
       "      <td>3</td>\n",
       "      <td>53</td>\n",
       "      <td>privat</td>\n",
       "      <td>11th</td>\n",
       "      <td>Handlers-cleaners</td>\n",
       "      <td>0</td>\n",
       "      <td>0</td>\n",
       "      <td>United-States</td>\n",
       "      <td>33658.0</td>\n",
       "      <td>6</td>\n",
       "      <td>1.0</td>\n",
       "      <td>NaN</td>\n",
       "      <td>Male</td>\n",
       "    </tr>\n",
       "    <tr>\n",
       "      <td>4</td>\n",
       "      <td>4</td>\n",
       "      <td>28</td>\n",
       "      <td>privat</td>\n",
       "      <td>Bachelors</td>\n",
       "      <td>Prof-specialty</td>\n",
       "      <td>0</td>\n",
       "      <td>0</td>\n",
       "      <td>Cuba</td>\n",
       "      <td>34372.0</td>\n",
       "      <td>12</td>\n",
       "      <td>NaN</td>\n",
       "      <td>1.0</td>\n",
       "      <td>Female</td>\n",
       "    </tr>\n",
       "  </tbody>\n",
       "</table>\n",
       "</div>"
      ],
      "text/plain": [
       "   X age         workclass  education         occupation  capital.gain  \\\n",
       "0  0  39         State-gov  Bachelors       Adm-clerical          2174   \n",
       "1  1  50  Self-emp-not-inc  Bachelors    Exec-managerial             0   \n",
       "2  2  38            privat    HS-grad  Handlers-cleaners             0   \n",
       "3  3  53            privat       11th  Handlers-cleaners             0   \n",
       "4  4  28            privat  Bachelors     Prof-specialty             0   \n",
       "\n",
       "   capital.loss native.country  salaries jobsatisfaction  male  female  gender  \n",
       "0             0  United-States   43136.0               0   1.0     NaN    Male  \n",
       "1             0   UnitedStates   46209.0               7   1.0     NaN    Male  \n",
       "2             0  United-States   28937.0               6   1.0     NaN    Male  \n",
       "3             0  United-States   33658.0               6   1.0     NaN    Male  \n",
       "4             0           Cuba   34372.0              12   NaN     1.0  Female  "
      ]
     },
     "execution_count": 22,
     "metadata": {},
     "output_type": "execute_result"
    }
   ],
   "source": [
    "for column in data.columns:    \n",
    "    if data[column].dtype == 'O':\n",
    "        data[column] = data[column].str.strip()\n",
    "    else:\n",
    "        print(f\"column {column} is not string\")\n",
    "        \n",
    "data.head()"
   ]
  },
  {
   "cell_type": "markdown",
   "metadata": {
    "colab_type": "text",
    "id": "DmVHA4nJkFKc"
   },
   "source": [
    "Use code below to count how many rows were affected."
   ]
  },
  {
   "cell_type": "code",
   "execution_count": 23,
   "metadata": {
    "colab": {},
    "colab_type": "code",
    "id": "ta1E2PhJkFKe"
   },
   "outputs": [
    {
     "name": "stdout",
     "output_type": "stream",
     "text": [
      "Difference: 32561\n"
     ]
    }
   ],
   "source": [
    "# Count differences\n",
    "if data is not data.empty:\n",
    "    data_all = pd.concat([original_data, data]).drop_duplicates()\n",
    "    diff = data_all.shape[0] - data.shape[0]\n",
    "    print ('Difference: ' + str(diff))"
   ]
  },
  {
   "cell_type": "markdown",
   "metadata": {
    "colab_type": "text",
    "id": "4cVdZ7ZIkFKk"
   },
   "source": [
    "**<font color='red'>Answer:</font>** 32561"
   ]
  },
  {
   "cell_type": "markdown",
   "metadata": {
    "colab_type": "text",
    "id": "V-lFgWLSkFKm"
   },
   "source": [
    "**3.2. Replace all non-sensical values in `data` with np.nan from numpy package to denote missing values (Original file uses '?' for missing values). Fix the typos in the dataset. Justify all the changes that you do, explaining why you are sure that this is a correct change and what you think the cause for such error could be.**  <br>"
   ]
  },
  {
   "cell_type": "code",
   "execution_count": 24,
   "metadata": {
    "colab": {},
    "colab_type": "code",
    "id": "_jMxj03YkFKq"
   },
   "outputs": [
    {
     "data": {
      "text/html": [
       "<div>\n",
       "<style scoped>\n",
       "    .dataframe tbody tr th:only-of-type {\n",
       "        vertical-align: middle;\n",
       "    }\n",
       "\n",
       "    .dataframe tbody tr th {\n",
       "        vertical-align: top;\n",
       "    }\n",
       "\n",
       "    .dataframe thead th {\n",
       "        text-align: right;\n",
       "    }\n",
       "</style>\n",
       "<table border=\"1\" class=\"dataframe\">\n",
       "  <thead>\n",
       "    <tr style=\"text-align: right;\">\n",
       "      <th></th>\n",
       "      <th>X</th>\n",
       "      <th>age</th>\n",
       "      <th>workclass</th>\n",
       "      <th>education</th>\n",
       "      <th>occupation</th>\n",
       "      <th>capital.gain</th>\n",
       "      <th>capital.loss</th>\n",
       "      <th>native.country</th>\n",
       "      <th>salaries</th>\n",
       "      <th>jobsatisfaction</th>\n",
       "      <th>male</th>\n",
       "      <th>female</th>\n",
       "      <th>gender</th>\n",
       "    </tr>\n",
       "  </thead>\n",
       "  <tbody>\n",
       "    <tr>\n",
       "      <td>0</td>\n",
       "      <td>0</td>\n",
       "      <td>39</td>\n",
       "      <td>State-gov</td>\n",
       "      <td>Bachelors</td>\n",
       "      <td>Adm-clerical</td>\n",
       "      <td>2174</td>\n",
       "      <td>0</td>\n",
       "      <td>United-States</td>\n",
       "      <td>43136.0</td>\n",
       "      <td>0</td>\n",
       "      <td>1.0</td>\n",
       "      <td>NaN</td>\n",
       "      <td>Male</td>\n",
       "    </tr>\n",
       "    <tr>\n",
       "      <td>1</td>\n",
       "      <td>1</td>\n",
       "      <td>50</td>\n",
       "      <td>Self-emp-not-inc</td>\n",
       "      <td>Bachelors</td>\n",
       "      <td>Exec-managerial</td>\n",
       "      <td>0</td>\n",
       "      <td>0</td>\n",
       "      <td>United-States</td>\n",
       "      <td>46209.0</td>\n",
       "      <td>7</td>\n",
       "      <td>1.0</td>\n",
       "      <td>NaN</td>\n",
       "      <td>Male</td>\n",
       "    </tr>\n",
       "    <tr>\n",
       "      <td>2</td>\n",
       "      <td>2</td>\n",
       "      <td>38</td>\n",
       "      <td>Private</td>\n",
       "      <td>HS-grad</td>\n",
       "      <td>Handlers-cleaners</td>\n",
       "      <td>0</td>\n",
       "      <td>0</td>\n",
       "      <td>United-States</td>\n",
       "      <td>28937.0</td>\n",
       "      <td>6</td>\n",
       "      <td>1.0</td>\n",
       "      <td>NaN</td>\n",
       "      <td>Male</td>\n",
       "    </tr>\n",
       "    <tr>\n",
       "      <td>3</td>\n",
       "      <td>3</td>\n",
       "      <td>53</td>\n",
       "      <td>Private</td>\n",
       "      <td>11th</td>\n",
       "      <td>Handlers-cleaners</td>\n",
       "      <td>0</td>\n",
       "      <td>0</td>\n",
       "      <td>United-States</td>\n",
       "      <td>33658.0</td>\n",
       "      <td>6</td>\n",
       "      <td>1.0</td>\n",
       "      <td>NaN</td>\n",
       "      <td>Male</td>\n",
       "    </tr>\n",
       "    <tr>\n",
       "      <td>4</td>\n",
       "      <td>4</td>\n",
       "      <td>28</td>\n",
       "      <td>Private</td>\n",
       "      <td>Bachelors</td>\n",
       "      <td>Prof-specialty</td>\n",
       "      <td>0</td>\n",
       "      <td>0</td>\n",
       "      <td>Cuba</td>\n",
       "      <td>34372.0</td>\n",
       "      <td>12</td>\n",
       "      <td>NaN</td>\n",
       "      <td>1.0</td>\n",
       "      <td>Female</td>\n",
       "    </tr>\n",
       "    <tr>\n",
       "      <td>5</td>\n",
       "      <td>5</td>\n",
       "      <td>37</td>\n",
       "      <td>Private</td>\n",
       "      <td>Masters</td>\n",
       "      <td>Exec-managerial</td>\n",
       "      <td>0</td>\n",
       "      <td>0</td>\n",
       "      <td>United-States</td>\n",
       "      <td>15745.0</td>\n",
       "      <td>4</td>\n",
       "      <td>NaN</td>\n",
       "      <td>1.0</td>\n",
       "      <td>Female</td>\n",
       "    </tr>\n",
       "    <tr>\n",
       "      <td>6</td>\n",
       "      <td>6</td>\n",
       "      <td>49</td>\n",
       "      <td>Private</td>\n",
       "      <td>9th</td>\n",
       "      <td>Other-service</td>\n",
       "      <td>0</td>\n",
       "      <td>0</td>\n",
       "      <td>Jamaica</td>\n",
       "      <td>25117.0</td>\n",
       "      <td>7</td>\n",
       "      <td>NaN</td>\n",
       "      <td>1.0</td>\n",
       "      <td>Female</td>\n",
       "    </tr>\n",
       "    <tr>\n",
       "      <td>7</td>\n",
       "      <td>7</td>\n",
       "      <td>52</td>\n",
       "      <td>Self-emp-not-inc</td>\n",
       "      <td>HS-grad</td>\n",
       "      <td>Exec-managerial</td>\n",
       "      <td>0</td>\n",
       "      <td>0</td>\n",
       "      <td>United-States</td>\n",
       "      <td>75984.0</td>\n",
       "      <td>5</td>\n",
       "      <td>1.0</td>\n",
       "      <td>NaN</td>\n",
       "      <td>Male</td>\n",
       "    </tr>\n",
       "    <tr>\n",
       "      <td>8</td>\n",
       "      <td>8</td>\n",
       "      <td>31</td>\n",
       "      <td>Private</td>\n",
       "      <td>Masters</td>\n",
       "      <td>Prof-specialty</td>\n",
       "      <td>14084</td>\n",
       "      <td>0</td>\n",
       "      <td>United-States</td>\n",
       "      <td>68495.0</td>\n",
       "      <td>12</td>\n",
       "      <td>NaN</td>\n",
       "      <td>1.0</td>\n",
       "      <td>Female</td>\n",
       "    </tr>\n",
       "    <tr>\n",
       "      <td>9</td>\n",
       "      <td>9</td>\n",
       "      <td>42</td>\n",
       "      <td>Private</td>\n",
       "      <td>Bachelors</td>\n",
       "      <td>Exec-managerial</td>\n",
       "      <td>5178</td>\n",
       "      <td>0</td>\n",
       "      <td>United-States</td>\n",
       "      <td>60754.0</td>\n",
       "      <td>5</td>\n",
       "      <td>1.0</td>\n",
       "      <td>NaN</td>\n",
       "      <td>Male</td>\n",
       "    </tr>\n",
       "  </tbody>\n",
       "</table>\n",
       "</div>"
      ],
      "text/plain": [
       "   X age         workclass  education         occupation  capital.gain  \\\n",
       "0  0  39         State-gov  Bachelors       Adm-clerical          2174   \n",
       "1  1  50  Self-emp-not-inc  Bachelors    Exec-managerial             0   \n",
       "2  2  38           Private    HS-grad  Handlers-cleaners             0   \n",
       "3  3  53           Private       11th  Handlers-cleaners             0   \n",
       "4  4  28           Private  Bachelors     Prof-specialty             0   \n",
       "5  5  37           Private    Masters    Exec-managerial             0   \n",
       "6  6  49           Private        9th      Other-service             0   \n",
       "7  7  52  Self-emp-not-inc    HS-grad    Exec-managerial             0   \n",
       "8  8  31           Private    Masters     Prof-specialty         14084   \n",
       "9  9  42           Private  Bachelors    Exec-managerial          5178   \n",
       "\n",
       "   capital.loss native.country  salaries jobsatisfaction  male  female  gender  \n",
       "0             0  United-States   43136.0               0   1.0     NaN    Male  \n",
       "1             0  United-States   46209.0               7   1.0     NaN    Male  \n",
       "2             0  United-States   28937.0               6   1.0     NaN    Male  \n",
       "3             0  United-States   33658.0               6   1.0     NaN    Male  \n",
       "4             0           Cuba   34372.0              12   NaN     1.0  Female  \n",
       "5             0  United-States   15745.0               4   NaN     1.0  Female  \n",
       "6             0        Jamaica   25117.0               7   NaN     1.0  Female  \n",
       "7             0  United-States   75984.0               5   1.0     NaN    Male  \n",
       "8             0  United-States   68495.0              12   NaN     1.0  Female  \n",
       "9             0  United-States   60754.0               5   1.0     NaN    Male  "
      ]
     },
     "execution_count": 24,
     "metadata": {},
     "output_type": "execute_result"
    }
   ],
   "source": [
    "data_clean = data.replace(['?','privat','UnitedStates', 'Unitedstates', 'Hong'], [np.nan,'Private','United-States', 'United-States', 'Hong-Kong'])\n",
    "data_clean.head(10)\n"
   ]
  },
  {
   "cell_type": "markdown",
   "metadata": {
    "colab_type": "text",
    "id": "PK-mWCyYkFKw"
   },
   "source": [
    "**<font color='red'>Answer:</font>**  \n",
    "- value `Hong` in column `native.country`, we're not sure is it truly the name of the country `Hong Kong` or another meaning\n",
    "- value in `capital.gain` and `capital.loss` which are containing too many `0` value\n",
    "- value `Assoc-acdm` in `education` column"
   ]
  },
  {
   "cell_type": "markdown",
   "metadata": {
    "colab_type": "text",
    "id": "ozFI7O7QkFKy"
   },
   "source": [
    "**3.3. Count the rows which were changed in the subtask b** <br>"
   ]
  },
  {
   "cell_type": "code",
   "execution_count": 0,
   "metadata": {
    "colab": {},
    "colab_type": "code",
    "id": "9RM6qs0skFLE",
    "scrolled": true
   },
   "outputs": [],
   "source": [
    "# TODO"
   ]
  },
  {
   "cell_type": "markdown",
   "metadata": {
    "colab_type": "text",
    "id": "Z3k9ExTikFLP"
   },
   "source": [
    "**<font color='red'>Answer:</font>** Answer goes here."
   ]
  },
  {
   "cell_type": "markdown",
   "metadata": {
    "colab_type": "text",
    "id": "owzpqkWukFLR"
   },
   "source": [
    "**3.4. Report values that look suspicious whereas you are not sure whether they are definitely wrong** <br> "
   ]
  },
  {
   "cell_type": "markdown",
   "metadata": {
    "colab_type": "text",
    "id": "Ol_wv_5RkFLT"
   },
   "source": [
    "**<font color='red'>Answer:</font>** Answer goes here."
   ]
  },
  {
   "cell_type": "markdown",
   "metadata": {
    "colab_type": "text",
    "id": "jhjgQvJ4kFLZ"
   },
   "source": [
    "# 4.  Gathering interesting facts about the adult dataset (1.5 points)"
   ]
  },
  {
   "cell_type": "markdown",
   "metadata": {
    "colab_type": "text",
    "id": "bjQhgw46kFLa"
   },
   "source": [
    "Useful information about the data can be acquired through visualization even before modeling."
   ]
  },
  {
   "cell_type": "markdown",
   "metadata": {
    "colab_type": "text",
    "id": "y_xs4Ut8kFLc"
   },
   "source": [
    "**4.1. Convert the attribute `Education` into type `category` and introduce the order for this attribute based on the educational level (e.g. Masters is higher education than Bachelors; use your best guess in ordering those levels for which the order is not obvious). Create a bar chart visualising the relative frequencies of values.**"
   ]
  },
  {
   "cell_type": "code",
   "execution_count": 26,
   "metadata": {
    "colab": {},
    "colab_type": "code",
    "id": "zgEmHrRBkFLd"
   },
   "outputs": [
    {
     "data": {
      "text/plain": [
       "<matplotlib.axes._subplots.AxesSubplot at 0x2397d3b4f48>"
      ]
     },
     "execution_count": 26,
     "metadata": {},
     "output_type": "execute_result"
    },
    {
     "data": {
      "image/png": "[encoded data removed]",
      "text/plain": [
       "<Figure size 432x288 with 1 Axes>"
      ]
     },
     "metadata": {},
     "output_type": "display_data"
    }
   ],
   "source": [
    "\n",
    "data['education'] = data['education'].astype('category')\n",
    "#data['education'].cat.reorder_categories(['Doctorate','Masters',\n",
    " #                                         'Bachelors','Some-college',\n",
    "  #                                        'Prof-school','Assoc-voc',\n",
    "   #                                       'Assoc-acdm','HS-Grad','12th',\n",
    "    #                                      '11th','10th','9th',\n",
    "     #                                     '7th-8th','5th-6th','1st-4th','Preschool'\n",
    "      #                                   ])\n",
    "\n",
    "\n",
    "data['education'].value_counts(normalize=True).reindex(['Doctorate','Masters',\n",
    "                                          'Bachelors','Some-college',\n",
    "                                          'Prof-school','Assoc-voc',\n",
    "                                          'Assoc-acdm','HS-Grad','12th',\n",
    "                                          '11th','10th','9th',\n",
    "                                          '7th-8th','5th-6th','1st-4th','Preschool'\n",
    "                                         ]).plot(kind=\"bar\")\n",
    "\n",
    "\n"
   ]
  },
  {
   "cell_type": "markdown",
   "metadata": {
    "colab_type": "text",
    "id": "uSUihc04kFLo"
   },
   "source": [
    "**4.2.  Create and print a Pandas data frame where each row stands for an occupation, each column stands for a level of education, and the cells in the table contain the average salary of people with the corresponding occupation and education level.** <br> \n",
    "Hint 1: You can use crosstab, see also aggfunc from the pandas documentation."
   ]
  },
  {
   "cell_type": "code",
   "execution_count": 27,
   "metadata": {
    "colab": {},
    "colab_type": "code",
    "id": "Kjb2Y8WLkFLp",
    "scrolled": false
   },
   "outputs": [
    {
     "data": {
      "text/html": [
       "<div>\n",
       "<style scoped>\n",
       "    .dataframe tbody tr th:only-of-type {\n",
       "        vertical-align: middle;\n",
       "    }\n",
       "\n",
       "    .dataframe tbody tr th {\n",
       "        vertical-align: top;\n",
       "    }\n",
       "\n",
       "    .dataframe thead th {\n",
       "        text-align: right;\n",
       "    }\n",
       "</style>\n",
       "<table border=\"1\" class=\"dataframe\">\n",
       "  <thead>\n",
       "    <tr style=\"text-align: right;\">\n",
       "      <th>education</th>\n",
       "      <th>10th</th>\n",
       "      <th>11th</th>\n",
       "      <th>12th</th>\n",
       "      <th>1st-4th</th>\n",
       "      <th>5th-6th</th>\n",
       "      <th>7th-8th</th>\n",
       "      <th>9th</th>\n",
       "      <th>Assoc-acdm</th>\n",
       "      <th>Assoc-voc</th>\n",
       "      <th>Bachelors</th>\n",
       "      <th>Doctorate</th>\n",
       "      <th>HS-grad</th>\n",
       "      <th>Masters</th>\n",
       "      <th>Preschool</th>\n",
       "      <th>Prof-school</th>\n",
       "      <th>Some-college</th>\n",
       "    </tr>\n",
       "    <tr>\n",
       "      <th>occupation</th>\n",
       "      <th></th>\n",
       "      <th></th>\n",
       "      <th></th>\n",
       "      <th></th>\n",
       "      <th></th>\n",
       "      <th></th>\n",
       "      <th></th>\n",
       "      <th></th>\n",
       "      <th></th>\n",
       "      <th></th>\n",
       "      <th></th>\n",
       "      <th></th>\n",
       "      <th></th>\n",
       "      <th></th>\n",
       "      <th></th>\n",
       "      <th></th>\n",
       "    </tr>\n",
       "  </thead>\n",
       "  <tbody>\n",
       "    <tr>\n",
       "      <td>?</td>\n",
       "      <td>31292.25</td>\n",
       "      <td>29582.05</td>\n",
       "      <td>31123.75</td>\n",
       "      <td>30193.58</td>\n",
       "      <td>31864.57</td>\n",
       "      <td>32282.27</td>\n",
       "      <td>31683.63</td>\n",
       "      <td>34653.87</td>\n",
       "      <td>36020.44</td>\n",
       "      <td>40028.50</td>\n",
       "      <td>57649.47</td>\n",
       "      <td>33286.82</td>\n",
       "      <td>43630.42</td>\n",
       "      <td>24989.20</td>\n",
       "      <td>46083.56</td>\n",
       "      <td>32974.99</td>\n",
       "    </tr>\n",
       "    <tr>\n",
       "      <td>Adm-clerical</td>\n",
       "      <td>29957.97</td>\n",
       "      <td>29976.85</td>\n",
       "      <td>29722.61</td>\n",
       "      <td>NaN</td>\n",
       "      <td>26075.00</td>\n",
       "      <td>35226.91</td>\n",
       "      <td>32473.00</td>\n",
       "      <td>34836.39</td>\n",
       "      <td>33989.10</td>\n",
       "      <td>38987.47</td>\n",
       "      <td>43041.60</td>\n",
       "      <td>34729.64</td>\n",
       "      <td>42550.85</td>\n",
       "      <td>31927.50</td>\n",
       "      <td>44568.11</td>\n",
       "      <td>34387.94</td>\n",
       "    </tr>\n",
       "    <tr>\n",
       "      <td>Armed-Forces</td>\n",
       "      <td>NaN</td>\n",
       "      <td>NaN</td>\n",
       "      <td>48635.00</td>\n",
       "      <td>NaN</td>\n",
       "      <td>NaN</td>\n",
       "      <td>NaN</td>\n",
       "      <td>NaN</td>\n",
       "      <td>NaN</td>\n",
       "      <td>NaN</td>\n",
       "      <td>15014.00</td>\n",
       "      <td>NaN</td>\n",
       "      <td>35544.00</td>\n",
       "      <td>67993.00</td>\n",
       "      <td>NaN</td>\n",
       "      <td>NaN</td>\n",
       "      <td>19421.00</td>\n",
       "    </tr>\n",
       "    <tr>\n",
       "      <td>Craft-repair</td>\n",
       "      <td>35271.21</td>\n",
       "      <td>36050.30</td>\n",
       "      <td>35800.19</td>\n",
       "      <td>32884.09</td>\n",
       "      <td>33559.63</td>\n",
       "      <td>33048.06</td>\n",
       "      <td>35322.85</td>\n",
       "      <td>41023.08</td>\n",
       "      <td>42391.51</td>\n",
       "      <td>45141.61</td>\n",
       "      <td>54458.50</td>\n",
       "      <td>38615.12</td>\n",
       "      <td>46957.59</td>\n",
       "      <td>33937.50</td>\n",
       "      <td>52143.71</td>\n",
       "      <td>41353.64</td>\n",
       "    </tr>\n",
       "    <tr>\n",
       "      <td>Exec-managerial</td>\n",
       "      <td>38655.33</td>\n",
       "      <td>36805.44</td>\n",
       "      <td>36365.31</td>\n",
       "      <td>50014.50</td>\n",
       "      <td>71742.00</td>\n",
       "      <td>42949.74</td>\n",
       "      <td>38819.62</td>\n",
       "      <td>46605.03</td>\n",
       "      <td>45784.69</td>\n",
       "      <td>50908.82</td>\n",
       "      <td>63967.98</td>\n",
       "      <td>42182.16</td>\n",
       "      <td>57455.88</td>\n",
       "      <td>NaN</td>\n",
       "      <td>58638.12</td>\n",
       "      <td>43447.34</td>\n",
       "    </tr>\n",
       "    <tr>\n",
       "      <td>Farming-fishing</td>\n",
       "      <td>32535.09</td>\n",
       "      <td>34774.05</td>\n",
       "      <td>33999.88</td>\n",
       "      <td>31450.00</td>\n",
       "      <td>30814.36</td>\n",
       "      <td>33664.48</td>\n",
       "      <td>31886.18</td>\n",
       "      <td>32939.19</td>\n",
       "      <td>38431.48</td>\n",
       "      <td>39866.14</td>\n",
       "      <td>70039.00</td>\n",
       "      <td>35043.57</td>\n",
       "      <td>40793.10</td>\n",
       "      <td>32559.33</td>\n",
       "      <td>43915.50</td>\n",
       "      <td>33912.57</td>\n",
       "    </tr>\n",
       "    <tr>\n",
       "      <td>Handlers-cleaners</td>\n",
       "      <td>32047.00</td>\n",
       "      <td>30906.23</td>\n",
       "      <td>32224.45</td>\n",
       "      <td>31633.06</td>\n",
       "      <td>32748.48</td>\n",
       "      <td>30780.35</td>\n",
       "      <td>34131.20</td>\n",
       "      <td>33321.33</td>\n",
       "      <td>34322.86</td>\n",
       "      <td>37371.94</td>\n",
       "      <td>NaN</td>\n",
       "      <td>32552.26</td>\n",
       "      <td>29983.00</td>\n",
       "      <td>30799.00</td>\n",
       "      <td>NaN</td>\n",
       "      <td>32719.36</td>\n",
       "    </tr>\n",
       "    <tr>\n",
       "      <td>Machine-op-inspct</td>\n",
       "      <td>32183.33</td>\n",
       "      <td>31165.66</td>\n",
       "      <td>28159.49</td>\n",
       "      <td>32227.96</td>\n",
       "      <td>33421.93</td>\n",
       "      <td>33776.59</td>\n",
       "      <td>32178.88</td>\n",
       "      <td>43272.30</td>\n",
       "      <td>39073.59</td>\n",
       "      <td>38791.84</td>\n",
       "      <td>70502.00</td>\n",
       "      <td>35660.08</td>\n",
       "      <td>31144.50</td>\n",
       "      <td>32628.82</td>\n",
       "      <td>38026.00</td>\n",
       "      <td>36279.22</td>\n",
       "    </tr>\n",
       "    <tr>\n",
       "      <td>Other-service</td>\n",
       "      <td>30484.64</td>\n",
       "      <td>31202.76</td>\n",
       "      <td>31881.76</td>\n",
       "      <td>29770.65</td>\n",
       "      <td>31433.08</td>\n",
       "      <td>31001.63</td>\n",
       "      <td>31044.70</td>\n",
       "      <td>33145.14</td>\n",
       "      <td>33618.78</td>\n",
       "      <td>35861.41</td>\n",
       "      <td>71626.00</td>\n",
       "      <td>32137.30</td>\n",
       "      <td>32017.68</td>\n",
       "      <td>32498.47</td>\n",
       "      <td>37343.75</td>\n",
       "      <td>31471.02</td>\n",
       "    </tr>\n",
       "    <tr>\n",
       "      <td>Priv-house-serv</td>\n",
       "      <td>33172.00</td>\n",
       "      <td>27458.43</td>\n",
       "      <td>34069.25</td>\n",
       "      <td>25066.36</td>\n",
       "      <td>26133.07</td>\n",
       "      <td>28921.25</td>\n",
       "      <td>33230.20</td>\n",
       "      <td>16753.50</td>\n",
       "      <td>34781.25</td>\n",
       "      <td>37750.43</td>\n",
       "      <td>NaN</td>\n",
       "      <td>31240.14</td>\n",
       "      <td>28568.00</td>\n",
       "      <td>26577.00</td>\n",
       "      <td>NaN</td>\n",
       "      <td>31587.56</td>\n",
       "    </tr>\n",
       "    <tr>\n",
       "      <td>Prof-specialty</td>\n",
       "      <td>45071.67</td>\n",
       "      <td>30745.05</td>\n",
       "      <td>37524.00</td>\n",
       "      <td>23128.50</td>\n",
       "      <td>39091.00</td>\n",
       "      <td>28300.22</td>\n",
       "      <td>35095.00</td>\n",
       "      <td>40030.98</td>\n",
       "      <td>42809.15</td>\n",
       "      <td>44600.97</td>\n",
       "      <td>56764.62</td>\n",
       "      <td>40999.92</td>\n",
       "      <td>48030.88</td>\n",
       "      <td>34861.00</td>\n",
       "      <td>58333.60</td>\n",
       "      <td>40584.20</td>\n",
       "    </tr>\n",
       "    <tr>\n",
       "      <td>Protective-serv</td>\n",
       "      <td>26930.17</td>\n",
       "      <td>38363.14</td>\n",
       "      <td>30582.83</td>\n",
       "      <td>41685.00</td>\n",
       "      <td>19378.00</td>\n",
       "      <td>30010.33</td>\n",
       "      <td>33974.00</td>\n",
       "      <td>42760.50</td>\n",
       "      <td>41284.54</td>\n",
       "      <td>50673.92</td>\n",
       "      <td>NaN</td>\n",
       "      <td>39481.47</td>\n",
       "      <td>48472.13</td>\n",
       "      <td>NaN</td>\n",
       "      <td>64038.00</td>\n",
       "      <td>43383.00</td>\n",
       "    </tr>\n",
       "    <tr>\n",
       "      <td>Sales</td>\n",
       "      <td>33370.27</td>\n",
       "      <td>31411.95</td>\n",
       "      <td>35273.38</td>\n",
       "      <td>31324.25</td>\n",
       "      <td>39858.67</td>\n",
       "      <td>37247.90</td>\n",
       "      <td>33974.47</td>\n",
       "      <td>40032.57</td>\n",
       "      <td>38573.94</td>\n",
       "      <td>47796.29</td>\n",
       "      <td>53759.50</td>\n",
       "      <td>37536.60</td>\n",
       "      <td>52718.71</td>\n",
       "      <td>NaN</td>\n",
       "      <td>52483.89</td>\n",
       "      <td>38450.69</td>\n",
       "    </tr>\n",
       "    <tr>\n",
       "      <td>Tech-support</td>\n",
       "      <td>44464.67</td>\n",
       "      <td>32796.67</td>\n",
       "      <td>43313.00</td>\n",
       "      <td>NaN</td>\n",
       "      <td>39695.00</td>\n",
       "      <td>32947.20</td>\n",
       "      <td>32152.50</td>\n",
       "      <td>40934.41</td>\n",
       "      <td>42085.61</td>\n",
       "      <td>43159.54</td>\n",
       "      <td>58249.00</td>\n",
       "      <td>40867.11</td>\n",
       "      <td>48925.41</td>\n",
       "      <td>NaN</td>\n",
       "      <td>42851.86</td>\n",
       "      <td>40650.14</td>\n",
       "    </tr>\n",
       "    <tr>\n",
       "      <td>Transport-moving</td>\n",
       "      <td>38104.95</td>\n",
       "      <td>32254.36</td>\n",
       "      <td>39585.77</td>\n",
       "      <td>33409.88</td>\n",
       "      <td>31557.00</td>\n",
       "      <td>35341.45</td>\n",
       "      <td>33625.57</td>\n",
       "      <td>32465.22</td>\n",
       "      <td>41845.22</td>\n",
       "      <td>40176.13</td>\n",
       "      <td>18726.00</td>\n",
       "      <td>38235.36</td>\n",
       "      <td>43370.40</td>\n",
       "      <td>NaN</td>\n",
       "      <td>67293.33</td>\n",
       "      <td>39624.40</td>\n",
       "    </tr>\n",
       "  </tbody>\n",
       "</table>\n",
       "</div>"
      ],
      "text/plain": [
       "education              10th      11th      12th   1st-4th   5th-6th   7th-8th  \\\n",
       "occupation                                                                      \n",
       "?                  31292.25  29582.05  31123.75  30193.58  31864.57  32282.27   \n",
       "Adm-clerical       29957.97  29976.85  29722.61       NaN  26075.00  35226.91   \n",
       "Armed-Forces            NaN       NaN  48635.00       NaN       NaN       NaN   \n",
       "Craft-repair       35271.21  36050.30  35800.19  32884.09  33559.63  33048.06   \n",
       "Exec-managerial    38655.33  36805.44  36365.31  50014.50  71742.00  42949.74   \n",
       "Farming-fishing    32535.09  34774.05  33999.88  31450.00  30814.36  33664.48   \n",
       "Handlers-cleaners  32047.00  30906.23  32224.45  31633.06  32748.48  30780.35   \n",
       "Machine-op-inspct  32183.33  31165.66  28159.49  32227.96  33421.93  33776.59   \n",
       "Other-service      30484.64  31202.76  31881.76  29770.65  31433.08  31001.63   \n",
       "Priv-house-serv    33172.00  27458.43  34069.25  25066.36  26133.07  28921.25   \n",
       "Prof-specialty     45071.67  30745.05  37524.00  23128.50  39091.00  28300.22   \n",
       "Protective-serv    26930.17  38363.14  30582.83  41685.00  19378.00  30010.33   \n",
       "Sales              33370.27  31411.95  35273.38  31324.25  39858.67  37247.90   \n",
       "Tech-support       44464.67  32796.67  43313.00       NaN  39695.00  32947.20   \n",
       "Transport-moving   38104.95  32254.36  39585.77  33409.88  31557.00  35341.45   \n",
       "\n",
       "education               9th  Assoc-acdm  Assoc-voc  Bachelors  Doctorate  \\\n",
       "occupation                                                                 \n",
       "?                  31683.63    34653.87   36020.44   40028.50   57649.47   \n",
       "Adm-clerical       32473.00    34836.39   33989.10   38987.47   43041.60   \n",
       "Armed-Forces            NaN         NaN        NaN   15014.00        NaN   \n",
       "Craft-repair       35322.85    41023.08   42391.51   45141.61   54458.50   \n",
       "Exec-managerial    38819.62    46605.03   45784.69   50908.82   63967.98   \n",
       "Farming-fishing    31886.18    32939.19   38431.48   39866.14   70039.00   \n",
       "Handlers-cleaners  34131.20    33321.33   34322.86   37371.94        NaN   \n",
       "Machine-op-inspct  32178.88    43272.30   39073.59   38791.84   70502.00   \n",
       "Other-service      31044.70    33145.14   33618.78   35861.41   71626.00   \n",
       "Priv-house-serv    33230.20    16753.50   34781.25   37750.43        NaN   \n",
       "Prof-specialty     35095.00    40030.98   42809.15   44600.97   56764.62   \n",
       "Protective-serv    33974.00    42760.50   41284.54   50673.92        NaN   \n",
       "Sales              33974.47    40032.57   38573.94   47796.29   53759.50   \n",
       "Tech-support       32152.50    40934.41   42085.61   43159.54   58249.00   \n",
       "Transport-moving   33625.57    32465.22   41845.22   40176.13   18726.00   \n",
       "\n",
       "education           HS-grad   Masters  Preschool  Prof-school  Some-college  \n",
       "occupation                                                                   \n",
       "?                  33286.82  43630.42   24989.20     46083.56      32974.99  \n",
       "Adm-clerical       34729.64  42550.85   31927.50     44568.11      34387.94  \n",
       "Armed-Forces       35544.00  67993.00        NaN          NaN      19421.00  \n",
       "Craft-repair       38615.12  46957.59   33937.50     52143.71      41353.64  \n",
       "Exec-managerial    42182.16  57455.88        NaN     58638.12      43447.34  \n",
       "Farming-fishing    35043.57  40793.10   32559.33     43915.50      33912.57  \n",
       "Handlers-cleaners  32552.26  29983.00   30799.00          NaN      32719.36  \n",
       "Machine-op-inspct  35660.08  31144.50   32628.82     38026.00      36279.22  \n",
       "Other-service      32137.30  32017.68   32498.47     37343.75      31471.02  \n",
       "Priv-house-serv    31240.14  28568.00   26577.00          NaN      31587.56  \n",
       "Prof-specialty     40999.92  48030.88   34861.00     58333.60      40584.20  \n",
       "Protective-serv    39481.47  48472.13        NaN     64038.00      43383.00  \n",
       "Sales              37536.60  52718.71        NaN     52483.89      38450.69  \n",
       "Tech-support       40867.11  48925.41        NaN     42851.86      40650.14  \n",
       "Transport-moving   38235.36  43370.40        NaN     67293.33      39624.40  "
      ]
     },
     "execution_count": 27,
     "metadata": {},
     "output_type": "execute_result"
    }
   ],
   "source": [
    "# TODO\n",
    "import numpy as np\n",
    "import pandas as pd\n",
    "\n",
    "crosstab_df = pd.crosstab(data.occupation, data.education, values = data.salaries, aggfunc=np.mean).round(2)\n",
    "crosstab_df"
   ]
  },
  {
   "cell_type": "markdown",
   "metadata": {
    "colab_type": "text",
    "id": "pp5_PqEmkFLu"
   },
   "source": [
    "**4.3. Make a separate plot for each row (occupation) of the table created in subtask b. Choose the type of the plot to convey the information as well as you can.** <br>"
   ]
  },
  {
   "cell_type": "code",
   "execution_count": 28,
   "metadata": {
    "colab": {},
    "colab_type": "code",
    "id": "cl9VE_wdkFLv",
    "scrolled": false
   },
   "outputs": [
    {
     "name": "stdout",
     "output_type": "stream",
     "text": [
      "?\n"
     ]
    },
    {
     "data": {
      "image/png": "[encoded data removed]",
      "text/plain": [
       "<Figure size 432x288 with 1 Axes>"
      ]
     },
     "metadata": {},
     "output_type": "display_data"
    },
    {
     "name": "stdout",
     "output_type": "stream",
     "text": [
      "Adm-clerical\n"
     ]
    },
    {
     "data": {
      "image/png": "[encoded data removed]",
      "text/plain": [
       "<Figure size 432x288 with 1 Axes>"
      ]
     },
     "metadata": {},
     "output_type": "display_data"
    },
    {
     "name": "stdout",
     "output_type": "stream",
     "text": [
      "Armed-Forces\n"
     ]
    },
    {
     "data": {
      "image/png": "[encoded data removed]",
      "text/plain": [
       "<Figure size 432x288 with 1 Axes>"
      ]
     },
     "metadata": {},
     "output_type": "display_data"
    },
    {
     "name": "stdout",
     "output_type": "stream",
     "text": [
      "Craft-repair\n"
     ]
    },
    {
     "data": {
      "image/png": "[encoded data removed]",
      "text/plain": [
       "<Figure size 432x288 with 1 Axes>"
      ]
     },
     "metadata": {},
     "output_type": "display_data"
    },
    {
     "name": "stdout",
     "output_type": "stream",
     "text": [
      "Exec-managerial\n"
     ]
    },
    {
     "data": {
      "image/png": "[encoded data removed]",
      "text/plain": [
       "<Figure size 432x288 with 1 Axes>"
      ]
     },
     "metadata": {},
     "output_type": "display_data"
    },
    {
     "name": "stdout",
     "output_type": "stream",
     "text": [
      "Farming-fishing\n"
     ]
    },
    {
     "data": {
      "image/png": "[encoded data removed]",
      "text/plain": [
       "<Figure size 432x288 with 1 Axes>"
      ]
     },
     "metadata": {},
     "output_type": "display_data"
    },
    {
     "name": "stdout",
     "output_type": "stream",
     "text": [
      "Handlers-cleaners\n"
     ]
    },
    {
     "data": {
      "image/png": "[encoded data removed]",
      "text/plain": [
       "<Figure size 432x288 with 1 Axes>"
      ]
     },
     "metadata": {},
     "output_type": "display_data"
    },
    {
     "name": "stdout",
     "output_type": "stream",
     "text": [
      "Machine-op-inspct\n"
     ]
    },
    {
     "data": {
      "image/png": "[encoded data removed]",
      "text/plain": [
       "<Figure size 432x288 with 1 Axes>"
      ]
     },
     "metadata": {},
     "output_type": "display_data"
    },
    {
     "name": "stdout",
     "output_type": "stream",
     "text": [
      "Other-service\n"
     ]
    },
    {
     "data": {
      "image/png": "[encoded data removed]",
      "text/plain": [
       "<Figure size 432x288 with 1 Axes>"
      ]
     },
     "metadata": {},
     "output_type": "display_data"
    },
    {
     "name": "stdout",
     "output_type": "stream",
     "text": [
      "Priv-house-serv\n"
     ]
    },
    {
     "data": {
      "image/png": "[encoded data removed]",
      "text/plain": [
       "<Figure size 432x288 with 1 Axes>"
      ]
     },
     "metadata": {},
     "output_type": "display_data"
    },
    {
     "name": "stdout",
     "output_type": "stream",
     "text": [
      "Prof-specialty\n"
     ]
    },
    {
     "data": {
      "image/png": "[encoded data removed]",
      "text/plain": [
       "<Figure size 432x288 with 1 Axes>"
      ]
     },
     "metadata": {},
     "output_type": "display_data"
    },
    {
     "name": "stdout",
     "output_type": "stream",
     "text": [
      "Protective-serv\n"
     ]
    },
    {
     "data": {
      "image/png": "[encoded data removed]",
      "text/plain": [
       "<Figure size 432x288 with 1 Axes>"
      ]
     },
     "metadata": {},
     "output_type": "display_data"
    },
    {
     "name": "stdout",
     "output_type": "stream",
     "text": [
      "Sales\n"
     ]
    },
    {
     "data": {
      "image/png": "[encoded data removed]",
      "text/plain": [
       "<Figure size 432x288 with 1 Axes>"
      ]
     },
     "metadata": {},
     "output_type": "display_data"
    },
    {
     "name": "stdout",
     "output_type": "stream",
     "text": [
      "Tech-support\n"
     ]
    },
    {
     "data": {
      "image/png": "[encoded data removed]",
      "text/plain": [
       "<Figure size 432x288 with 1 Axes>"
      ]
     },
     "metadata": {},
     "output_type": "display_data"
    },
    {
     "name": "stdout",
     "output_type": "stream",
     "text": [
      "Transport-moving\n"
     ]
    },
    {
     "data": {
      "image/png": "[encoded data removed]",
      "text/plain": [
       "<Figure size 432x288 with 1 Axes>"
      ]
     },
     "metadata": {},
     "output_type": "display_data"
    }
   ],
   "source": [
    "if crosstab_df is not crosstab_df.empty:\n",
    "    for index, row in crosstab_df.iterrows():\n",
    "        row.plot(kind='bar') # TODO \n",
    "        print(index)\n",
    "        plt.show()"
   ]
  },
  {
   "cell_type": "markdown",
   "metadata": {
    "colab_type": "text",
    "id": "5DCbLTtekFL2"
   },
   "source": [
    "**4.4. List 3 interesting facts that you can read out of these plots from subtask c.** <br>"
   ]
  },
  {
   "cell_type": "markdown",
   "metadata": {
    "colab_type": "text",
    "id": "DMV07csakFL6"
   },
   "source": [
    "**<font color='red'>Fact 1:</font>** For occupation armed-forces it shows that for people who have education 12th grade have higher salaries than people with bachelors, some-college. and HS-grade background."
   ]
  },
  {
   "cell_type": "markdown",
   "metadata": {
    "colab_type": "text",
    "id": "6-Xs3RzykFL9"
   },
   "source": [
    "**<font color='red'>Fact 2:</font>**  For occupation exec-managerial it shows that for people with education 5th-6th grade have the highest salaries compare to others."
   ]
  },
  {
   "cell_type": "markdown",
   "metadata": {
    "colab_type": "text",
    "id": "Qp-ViRcEkFL-"
   },
   "source": [
    "**<font color='red'>Fact 3:</font>**  For occupation farming-fishing the highest salaries is owned by people with 'Doctorate' education"
   ]
  },
  {
   "cell_type": "markdown",
   "metadata": {
    "colab_type": "text",
    "id": "4Uzi95ZUkFL_"
   },
   "source": [
    "## How long did it take you to solve the homework?\n",
    "\n",
    "* Please answer as precisely as you can. It does not affect your points or grade in any way. It is okey, if it took 0.5 hours or 24 hours. The collected information will be used to improve future homeworks.\n",
    "\n",
    "<font color='red'> **Answer:**</font>\n",
    "\n",
    "**<font color='red'>(please change X in the next cell into your estimate)</font>**\n",
    "\n",
    "6-7 hours\n",
    "\n",
    "## How much the homework is difficult?\n",
    "you can put only number between $0:10$ ($0:$ easy, $10:$ difficult)\n",
    "\n",
    "<font color='red'> **Answer: 8**</font>\n",
    "\n",
    "\n"
   ]
  }
 ],
 "metadata": {
  "colab": {
   "collapsed_sections": [
    "gqC9Z1dHkFH2",
    "gWhnFUYskFKF",
    "jhjgQvJ4kFLZ",
    "4Uzi95ZUkFL_"
   ],
   "name": "Copy of Homework 01.ipynb",
   "provenance": [
    {
     "file_id": "1nmdzG3DebIfVHifsWmpp4kVGAED9BxSn",
     "timestamp": 1581938859080
    }
   ]
  },
  "kernelspec": {
   "display_name": "Python 3",
   "language": "python",
   "name": "python3"
  },
  "language_info": {
   "codemirror_mode": {
    "name": "ipython",
    "version": 3
   },
   "file_extension": ".py",
   "mimetype": "text/x-python",
   "name": "python",
   "nbconvert_exporter": "python",
   "pygments_lexer": "ipython3",
   "version": "3.7.4"
  }
 },
 "nbformat": 4,
 "nbformat_minor": 1
}
